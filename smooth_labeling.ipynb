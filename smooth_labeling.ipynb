{
  "nbformat": 4,
  "nbformat_minor": 0,
  "metadata": {
    "colab": {
      "provenance": [],
      "authorship_tag": "ABX9TyPjv+br4K1zVzSC3ggkGKKA",
      "include_colab_link": true
    },
    "kernelspec": {
      "name": "python3",
      "display_name": "Python 3"
    },
    "language_info": {
      "name": "python"
    }
  },
  "cells": [
    {
      "cell_type": "markdown",
      "metadata": {
        "id": "view-in-github",
        "colab_type": "text"
      },
      "source": [
        "<a href=\"https://colab.research.google.com/github/aruaru0/pytorch-tests/blob/main/smooth_labeling.ipynb\" target=\"_parent\"><img src=\"https://colab.research.google.com/assets/colab-badge.svg\" alt=\"Open In Colab\"/></a>"
      ]
    },
    {
      "cell_type": "code",
      "execution_count": 96,
      "metadata": {
        "id": "mJamjsvrYMNt"
      },
      "outputs": [],
      "source": [
        "import torch\n",
        "from torch.nn import CrossEntropyLoss\n",
        "from torch.nn.functional import one_hot"
      ]
    },
    {
      "cell_type": "code",
      "source": [
        "gt = torch.tensor([0, 0, 1, 0, 0], dtype=torch.float32)\n",
        "pred = torch.tensor([0.1, 0.1, 0.8, 0.1, 0.1], dtype=torch.float32)\n",
        "\n",
        "loss = CrossEntropyLoss()\n",
        "loss(pred, gt)"
      ],
      "metadata": {
        "colab": {
          "base_uri": "https://localhost:8080/"
        },
        "id": "13pN7OtSYRb_",
        "outputId": "920098bd-1d58-47d3-a8cc-598f4194863b"
      },
      "execution_count": 90,
      "outputs": [
        {
          "output_type": "execute_result",
          "data": {
            "text/plain": [
              "tensor(1.0940)"
            ]
          },
          "metadata": {},
          "execution_count": 90
        }
      ]
    },
    {
      "cell_type": "code",
      "source": [],
      "metadata": {
        "id": "Mq8guJVzbJYs"
      },
      "execution_count": 80,
      "outputs": []
    },
    {
      "cell_type": "code",
      "source": [
        "import torch\n",
        "from torch.nn import CrossEntropyLoss\n",
        "\n",
        "gt = torch.tensor([0, 0, 1, 0, 0], dtype=torch.float32)\n",
        "pred = torch.tensor([0.1, 0.1, 0.8, 0.1, 0.1], dtype=torch.float32)\n",
        "loss = CrossEntropyLoss(label_smoothing=0.1)\n",
        "print(loss(pred, gt))\n",
        "# tensor(1.1500)"
      ],
      "metadata": {
        "colab": {
          "base_uri": "https://localhost:8080/"
        },
        "id": "6-ojZGptYhr5",
        "outputId": "6d122f38-09ac-4beb-ff7f-6861b1799c1f"
      },
      "execution_count": 107,
      "outputs": [
        {
          "output_type": "stream",
          "name": "stdout",
          "text": [
            "tensor(1.1500)\n"
          ]
        }
      ]
    },
    {
      "cell_type": "code",
      "source": [
        "e = 0.1\n",
        "k = 5\n",
        "gt = torch.tensor([0, 0, 1, 0, 0], dtype=torch.float32)\n",
        "gt = gt*(1-e) + e/k\n",
        "print(gt)\n",
        "pred = torch.tensor([0.1, 0.1, 0.8, 0.1, 0.1], dtype=torch.float32)\n",
        "print(pred)\n",
        "print(gt)\n",
        "loss = CrossEntropyLoss()\n",
        "loss(pred, gt)"
      ],
      "metadata": {
        "colab": {
          "base_uri": "https://localhost:8080/"
        },
        "id": "PjvLzysYYxhK",
        "outputId": "54c7e9dd-b88e-4860-963a-13cc7e35c5ab"
      },
      "execution_count": 94,
      "outputs": [
        {
          "output_type": "stream",
          "name": "stdout",
          "text": [
            "tensor([0.0200, 0.0200, 0.9200, 0.0200, 0.0200])\n",
            "tensor([0.1000, 0.1000, 0.8000, 0.1000, 0.1000])\n",
            "tensor([0.0200, 0.0200, 0.9200, 0.0200, 0.0200])\n"
          ]
        },
        {
          "output_type": "execute_result",
          "data": {
            "text/plain": [
              "tensor(1.1500)"
            ]
          },
          "metadata": {},
          "execution_count": 94
        }
      ]
    },
    {
      "cell_type": "code",
      "source": [
        "import torch\n",
        "e = 0.1\n",
        "k = 5\n",
        "gt = torch.tensor([2])\n",
        "gt = torch.nn.functional.one_hot(gt, num_classes=k) * (1-e) + e/k\n",
        "print(gt)"
      ],
      "metadata": {
        "colab": {
          "base_uri": "https://localhost:8080/"
        },
        "id": "Z5gHRuEtZS6G",
        "outputId": "3fbd5a7e-12ac-4cb7-ddd2-792d8bb05016"
      },
      "execution_count": 104,
      "outputs": [
        {
          "output_type": "stream",
          "name": "stdout",
          "text": [
            "tensor([[0.0200, 0.0200, 0.9200, 0.0200, 0.0200]])\n"
          ]
        }
      ]
    },
    {
      "cell_type": "code",
      "source": [
        "import torch\n",
        "\n",
        "e = 0.1\n",
        "k = 5\n",
        "gt = torch.tensor([0, 0, 1, 0, 0], dtype=torch.float32)\n",
        "gt = gt*(1-e) + e/k\n",
        "print(gt)"
      ],
      "metadata": {
        "id": "ZPfNvy31cU_p",
        "outputId": "c422646e-763f-4f75-aa81-3ea99267feca",
        "colab": {
          "base_uri": "https://localhost:8080/"
        }
      },
      "execution_count": 106,
      "outputs": [
        {
          "output_type": "stream",
          "name": "stdout",
          "text": [
            "tensor([0.0200, 0.0200, 0.9200, 0.0200, 0.0200])\n"
          ]
        }
      ]
    },
    {
      "cell_type": "code",
      "source": [],
      "metadata": {
        "id": "FFeuKMBocVjl"
      },
      "execution_count": null,
      "outputs": []
    }
  ]
}