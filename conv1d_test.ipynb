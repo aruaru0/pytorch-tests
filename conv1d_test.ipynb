{
  "nbformat": 4,
  "nbformat_minor": 0,
  "metadata": {
    "colab": {
      "provenance": [],
      "authorship_tag": "ABX9TyM3Gp/F1Vp4P2a8jRTBEzi6",
      "include_colab_link": true
    },
    "kernelspec": {
      "name": "python3",
      "display_name": "Python 3"
    },
    "language_info": {
      "name": "python"
    }
  },
  "cells": [
    {
      "cell_type": "markdown",
      "metadata": {
        "id": "view-in-github",
        "colab_type": "text"
      },
      "source": [
        "<a href=\"https://colab.research.google.com/github/aruaru0/pytorch-tests/blob/main/conv1d_test.ipynb\" target=\"_parent\"><img src=\"https://colab.research.google.com/assets/colab-badge.svg\" alt=\"Open In Colab\"/></a>"
      ]
    },
    {
      "cell_type": "code",
      "execution_count": 16,
      "metadata": {
        "id": "VVESR7C0_6__"
      },
      "outputs": [],
      "source": [
        "import torch\n",
        "from torch import nn"
      ]
    },
    {
      "cell_type": "code",
      "source": [
        "conv1d = nn.Conv1d(1,2,3)"
      ],
      "metadata": {
        "id": "Tr-ieVa2__1v"
      },
      "execution_count": 7,
      "outputs": []
    },
    {
      "cell_type": "code",
      "source": [
        "conv1d"
      ],
      "metadata": {
        "colab": {
          "base_uri": "https://localhost:8080/"
        },
        "id": "RV0p5JZGADQb",
        "outputId": "24d59d8d-696e-4b01-c8e0-f3692d03ee6c"
      },
      "execution_count": 8,
      "outputs": [
        {
          "output_type": "execute_result",
          "data": {
            "text/plain": [
              "Conv1d(1, 2, kernel_size=(3,), stride=(1,))"
            ]
          },
          "metadata": {},
          "execution_count": 8
        }
      ]
    },
    {
      "cell_type": "code",
      "source": [
        "conv1d.weight"
      ],
      "metadata": {
        "colab": {
          "base_uri": "https://localhost:8080/"
        },
        "id": "FRQj4YOnAKnj",
        "outputId": "1d0d1233-13d6-4439-9ab8-a329cdfc9dbe"
      },
      "execution_count": 9,
      "outputs": [
        {
          "output_type": "execute_result",
          "data": {
            "text/plain": [
              "Parameter containing:\n",
              "tensor([[[ 0.2690, -0.3829,  0.5537]],\n",
              "\n",
              "        [[ 0.3526, -0.1392,  0.3159]]], requires_grad=True)"
            ]
          },
          "metadata": {},
          "execution_count": 9
        }
      ]
    },
    {
      "cell_type": "code",
      "source": [
        "conv1d.bias"
      ],
      "metadata": {
        "colab": {
          "base_uri": "https://localhost:8080/"
        },
        "id": "8_O1LbqMANFR",
        "outputId": "f2673729-f94a-496e-f828-192b6662b521"
      },
      "execution_count": 10,
      "outputs": [
        {
          "output_type": "execute_result",
          "data": {
            "text/plain": [
              "Parameter containing:\n",
              "tensor([-0.0382, -0.4261], requires_grad=True)"
            ]
          },
          "metadata": {},
          "execution_count": 10
        }
      ]
    },
    {
      "cell_type": "code",
      "source": [
        "print(\"weights\", '-'*20)\n",
        "print(conv1d.weight.shape)\n",
        "print(conv1d.weight)\n",
        "\n",
        "print(\"bias\", '-'*20)\n",
        "print(conv1d.bias.shape)\n",
        "print(conv1d.bias)"
      ],
      "metadata": {
        "colab": {
          "base_uri": "https://localhost:8080/"
        },
        "id": "0uTcYKanAU3l",
        "outputId": "cec64022-c432-42e3-a0b8-e59fb536158e"
      },
      "execution_count": 11,
      "outputs": [
        {
          "output_type": "stream",
          "name": "stdout",
          "text": [
            "weights --------------------\n",
            "torch.Size([2, 1, 3])\n",
            "Parameter containing:\n",
            "tensor([[[ 0.2690, -0.3829,  0.5537]],\n",
            "\n",
            "        [[ 0.3526, -0.1392,  0.3159]]], requires_grad=True)\n",
            "bias --------------------\n",
            "torch.Size([2])\n",
            "Parameter containing:\n",
            "tensor([-0.0382, -0.4261], requires_grad=True)\n"
          ]
        }
      ]
    },
    {
      "cell_type": "code",
      "source": [
        "conv1d.weight = nn.Parameter(torch.tensor([[[1.,1.,1.]],[[-1.,2.,-1.]]]))\n",
        "conv1d.bias = nn.Parameter(torch.tensor([0., 0.]))\n",
        "print(\"weights\", '-'*20)\n",
        "print(conv1d.weight.shape)\n",
        "print(conv1d.weight)\n",
        "\n",
        "print(\"bias\", '-'*20)\n",
        "print(conv1d.bias.shape)\n",
        "print(conv1d.bias)"
      ],
      "metadata": {
        "colab": {
          "base_uri": "https://localhost:8080/"
        },
        "id": "WJijk4TEA9ii",
        "outputId": "f348cdaa-ade2-4d7a-e994-11ea0a3e3b01"
      },
      "execution_count": 33,
      "outputs": [
        {
          "output_type": "stream",
          "name": "stdout",
          "text": [
            "weights --------------------\n",
            "torch.Size([2, 1, 3])\n",
            "Parameter containing:\n",
            "tensor([[[ 1.,  1.,  1.]],\n",
            "\n",
            "        [[-1.,  2., -1.]]], requires_grad=True)\n",
            "bias --------------------\n",
            "torch.Size([2])\n",
            "Parameter containing:\n",
            "tensor([0., 0.], requires_grad=True)\n"
          ]
        }
      ]
    },
    {
      "cell_type": "code",
      "source": [
        "x = torch.tensor([[[float(i) for i in range (1, 11)]]])\n",
        "print(x.shape)\n",
        "print(x)"
      ],
      "metadata": {
        "colab": {
          "base_uri": "https://localhost:8080/"
        },
        "id": "EcndijghCAVT",
        "outputId": "d854fe19-451a-4811-9c11-4078812b07be"
      },
      "execution_count": 43,
      "outputs": [
        {
          "output_type": "stream",
          "name": "stdout",
          "text": [
            "torch.Size([1, 1, 10])\n",
            "tensor([[[ 1.,  2.,  3.,  4.,  5.,  6.,  7.,  8.,  9., 10.]]])\n"
          ]
        }
      ]
    },
    {
      "cell_type": "code",
      "source": [
        "y = conv1d(x)\n",
        "print(y)"
      ],
      "metadata": {
        "colab": {
          "base_uri": "https://localhost:8080/"
        },
        "id": "mR8hkHC6CSqq",
        "outputId": "396f59fa-7d08-4b83-b776-9e096c0116c7"
      },
      "execution_count": 45,
      "outputs": [
        {
          "output_type": "stream",
          "name": "stdout",
          "text": [
            "tensor([[[ 6.,  9., 12., 15., 18., 21., 24., 27.],\n",
            "         [ 0.,  0.,  0.,  0.,  0.,  0.,  0.,  0.]]],\n",
            "       grad_fn=<ConvolutionBackward0>)\n"
          ]
        }
      ]
    },
    {
      "cell_type": "code",
      "source": [],
      "metadata": {
        "id": "68PL_NSbDW1I"
      },
      "execution_count": null,
      "outputs": []
    }
  ]
}