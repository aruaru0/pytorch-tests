{
  "nbformat": 4,
  "nbformat_minor": 0,
  "metadata": {
    "colab": {
      "provenance": [],
      "authorship_tag": "ABX9TyMNlvtXfN/CFbwJQi797HAM",
      "include_colab_link": true
    },
    "kernelspec": {
      "name": "python3",
      "display_name": "Python 3"
    },
    "language_info": {
      "name": "python"
    }
  },
  "cells": [
    {
      "cell_type": "markdown",
      "metadata": {
        "id": "view-in-github",
        "colab_type": "text"
      },
      "source": [
        "<a href=\"https://colab.research.google.com/github/aruaru0/pytorch-tests/blob/main/dropout_test.ipynb\" target=\"_parent\"><img src=\"https://colab.research.google.com/assets/colab-badge.svg\" alt=\"Open In Colab\"/></a>"
      ]
    },
    {
      "cell_type": "code",
      "execution_count": 57,
      "metadata": {
        "id": "EujIK321g6gw"
      },
      "outputs": [],
      "source": [
        "import torch\n",
        "from torch import nn"
      ]
    },
    {
      "cell_type": "code",
      "source": [
        "p = 0.4\n",
        "d = nn.Dropout(p = p)\n",
        "x = torch.tensor([1.0]*10)\n",
        "print(x)\n",
        "y = d(x)\n",
        "print(y)\n",
        "# print(1/(1-p))"
      ],
      "metadata": {
        "colab": {
          "base_uri": "https://localhost:8080/"
        },
        "id": "5Xkuzpczg93r",
        "outputId": "4e0e1572-ea95-45f1-b2ba-1f6504ba603e"
      },
      "execution_count": 70,
      "outputs": [
        {
          "output_type": "stream",
          "name": "stdout",
          "text": [
            "tensor([1., 1., 1., 1., 1., 1., 1., 1., 1., 1.])\n",
            "tensor([1.6667, 0.0000, 0.0000, 0.0000, 1.6667, 1.6667, 0.0000, 1.6667, 1.6667,\n",
            "        0.0000])\n"
          ]
        }
      ]
    },
    {
      "cell_type": "code",
      "source": [
        "sum(y == 0)/len(y)"
      ],
      "metadata": {
        "colab": {
          "base_uri": "https://localhost:8080/"
        },
        "id": "RqKH7gLQiHNB",
        "outputId": "1e8168ba-be7d-405a-a4b2-65376c092634"
      },
      "execution_count": 36,
      "outputs": [
        {
          "output_type": "execute_result",
          "data": {
            "text/plain": [
              "tensor(0.2000)"
            ]
          },
          "metadata": {},
          "execution_count": 36
        }
      ]
    },
    {
      "cell_type": "code",
      "source": [
        "for _ in range(10) :\n",
        "  p = 0.5\n",
        "  d = nn.Dropout(p = p)\n",
        "  x = torch.tensor([1.0]*100)\n",
        "  y = d(x)\n",
        "  print(sum(y==0))\n"
      ],
      "metadata": {
        "colab": {
          "base_uri": "https://localhost:8080/"
        },
        "id": "LZwqhewNiMEr",
        "outputId": "64f40b76-a326-4683-d483-85d3a9ffbc75"
      },
      "execution_count": 71,
      "outputs": [
        {
          "output_type": "stream",
          "name": "stdout",
          "text": [
            "tensor(48)\n",
            "tensor(50)\n",
            "tensor(46)\n",
            "tensor(51)\n",
            "tensor(57)\n",
            "tensor(50)\n",
            "tensor(53)\n",
            "tensor(37)\n",
            "tensor(51)\n",
            "tensor(41)\n"
          ]
        }
      ]
    },
    {
      "cell_type": "code",
      "source": [
        "p = 0.5\n",
        "d = nn.Dropout(p = p)\n",
        "x = torch.tensor([1.0]*10)\n",
        "d.train()\n",
        "y = d(x)\n",
        "print(y)\n",
        "d.eval()\n",
        "y = d(x)\n",
        "print(y)"
      ],
      "metadata": {
        "colab": {
          "base_uri": "https://localhost:8080/"
        },
        "id": "ju1QCPFgiZ2T",
        "outputId": "b3cd4b3c-bed7-436e-f5de-33636b856aab"
      },
      "execution_count": 72,
      "outputs": [
        {
          "output_type": "stream",
          "name": "stdout",
          "text": [
            "tensor([0., 0., 2., 2., 0., 2., 2., 0., 0., 0.])\n",
            "tensor([1., 1., 1., 1., 1., 1., 1., 1., 1., 1.])\n"
          ]
        }
      ]
    },
    {
      "cell_type": "code",
      "source": [
        "d.training"
      ],
      "metadata": {
        "colab": {
          "base_uri": "https://localhost:8080/"
        },
        "id": "iClN2lKzijrK",
        "outputId": "b601f0d0-2056-405f-e4e9-ba5c46317c0d"
      },
      "execution_count": 56,
      "outputs": [
        {
          "output_type": "execute_result",
          "data": {
            "text/plain": [
              "True"
            ]
          },
          "metadata": {},
          "execution_count": 56
        }
      ]
    },
    {
      "cell_type": "code",
      "source": [],
      "metadata": {
        "id": "8_38bBdSoJ-r"
      },
      "execution_count": null,
      "outputs": []
    }
  ]
}