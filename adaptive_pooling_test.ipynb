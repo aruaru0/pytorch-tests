{
  "nbformat": 4,
  "nbformat_minor": 0,
  "metadata": {
    "colab": {
      "provenance": [],
      "authorship_tag": "ABX9TyMiFJvoRKMvrlnbeNn2FaqO",
      "include_colab_link": true
    },
    "kernelspec": {
      "name": "python3",
      "display_name": "Python 3"
    },
    "language_info": {
      "name": "python"
    }
  },
  "cells": [
    {
      "cell_type": "markdown",
      "metadata": {
        "id": "view-in-github",
        "colab_type": "text"
      },
      "source": [
        "<a href=\"https://colab.research.google.com/github/aruaru0/pytorch-tests/blob/main/adaptive_pooling_test.ipynb\" target=\"_parent\"><img src=\"https://colab.research.google.com/assets/colab-badge.svg\" alt=\"Open In Colab\"/></a>"
      ]
    },
    {
      "cell_type": "code",
      "execution_count": 1,
      "metadata": {
        "id": "nz-KUhFVLAby"
      },
      "outputs": [],
      "source": [
        "import torch"
      ]
    },
    {
      "cell_type": "code",
      "source": [
        "x = torch.tensor([float(i) for i in range(100)]).reshape(1, 10, 10)\n",
        "x.shape, x"
      ],
      "metadata": {
        "colab": {
          "base_uri": "https://localhost:8080/"
        },
        "id": "zeqIcR8ZLODE",
        "outputId": "48d4cbfa-e002-4d97-cb8e-b6541d4f3b71"
      },
      "execution_count": 29,
      "outputs": [
        {
          "output_type": "execute_result",
          "data": {
            "text/plain": [
              "(torch.Size([1, 10, 10]),\n",
              " tensor([[[ 0.,  1.,  2.,  3.,  4.,  5.,  6.,  7.,  8.,  9.],\n",
              "          [10., 11., 12., 13., 14., 15., 16., 17., 18., 19.],\n",
              "          [20., 21., 22., 23., 24., 25., 26., 27., 28., 29.],\n",
              "          [30., 31., 32., 33., 34., 35., 36., 37., 38., 39.],\n",
              "          [40., 41., 42., 43., 44., 45., 46., 47., 48., 49.],\n",
              "          [50., 51., 52., 53., 54., 55., 56., 57., 58., 59.],\n",
              "          [60., 61., 62., 63., 64., 65., 66., 67., 68., 69.],\n",
              "          [70., 71., 72., 73., 74., 75., 76., 77., 78., 79.],\n",
              "          [80., 81., 82., 83., 84., 85., 86., 87., 88., 89.],\n",
              "          [90., 91., 92., 93., 94., 95., 96., 97., 98., 99.]]]))"
            ]
          },
          "metadata": {},
          "execution_count": 29
        }
      ]
    },
    {
      "cell_type": "code",
      "source": [
        "avepool = torch.nn.AdaptiveAvgPool2d((5, 5))\n",
        "maxpool = torch.nn.AdaptiveMaxPool2d((5, 5))"
      ],
      "metadata": {
        "id": "E0TEgO9fLxC-"
      },
      "execution_count": 30,
      "outputs": []
    },
    {
      "cell_type": "code",
      "source": [
        "y = avepool(x)\n",
        "y.shape, y"
      ],
      "metadata": {
        "colab": {
          "base_uri": "https://localhost:8080/"
        },
        "id": "xhZqvz_rMYr-",
        "outputId": "52785b89-ecb4-4698-e100-d9ed373b26fe"
      },
      "execution_count": 32,
      "outputs": [
        {
          "output_type": "execute_result",
          "data": {
            "text/plain": [
              "(torch.Size([1, 5, 5]),\n",
              " tensor([[[ 5.5000,  7.5000,  9.5000, 11.5000, 13.5000],\n",
              "          [25.5000, 27.5000, 29.5000, 31.5000, 33.5000],\n",
              "          [45.5000, 47.5000, 49.5000, 51.5000, 53.5000],\n",
              "          [65.5000, 67.5000, 69.5000, 71.5000, 73.5000],\n",
              "          [85.5000, 87.5000, 89.5000, 91.5000, 93.5000]]]))"
            ]
          },
          "metadata": {},
          "execution_count": 32
        }
      ]
    },
    {
      "cell_type": "code",
      "source": [
        "y = maxpool(x)\n",
        "y.shape, y"
      ],
      "metadata": {
        "colab": {
          "base_uri": "https://localhost:8080/"
        },
        "id": "uZCLNLfMLRYH",
        "outputId": "2ca1c44a-e09f-4033-aae4-d3fc78a88dcd"
      },
      "execution_count": 33,
      "outputs": [
        {
          "output_type": "execute_result",
          "data": {
            "text/plain": [
              "(torch.Size([1, 5, 5]),\n",
              " tensor([[[11., 13., 15., 17., 19.],\n",
              "          [31., 33., 35., 37., 39.],\n",
              "          [51., 53., 55., 57., 59.],\n",
              "          [71., 73., 75., 77., 79.],\n",
              "          [91., 93., 95., 97., 99.]]]))"
            ]
          },
          "metadata": {},
          "execution_count": 33
        }
      ]
    },
    {
      "cell_type": "code",
      "source": [
        "pooling = torch.nn.AdaptiveAvgPool2d((10, 10))\n",
        "y = pooling(x)\n",
        "y.shape, y"
      ],
      "metadata": {
        "colab": {
          "base_uri": "https://localhost:8080/"
        },
        "id": "hISmRRV8LW9K",
        "outputId": "3f14e517-0b98-44de-bb9b-98641b784289"
      },
      "execution_count": 35,
      "outputs": [
        {
          "output_type": "execute_result",
          "data": {
            "text/plain": [
              "(torch.Size([1, 10, 10]),\n",
              " tensor([[[ 0.,  1.,  2.,  3.,  4.,  5.,  6.,  7.,  8.,  9.],\n",
              "          [10., 11., 12., 13., 14., 15., 16., 17., 18., 19.],\n",
              "          [20., 21., 22., 23., 24., 25., 26., 27., 28., 29.],\n",
              "          [30., 31., 32., 33., 34., 35., 36., 37., 38., 39.],\n",
              "          [40., 41., 42., 43., 44., 45., 46., 47., 48., 49.],\n",
              "          [50., 51., 52., 53., 54., 55., 56., 57., 58., 59.],\n",
              "          [60., 61., 62., 63., 64., 65., 66., 67., 68., 69.],\n",
              "          [70., 71., 72., 73., 74., 75., 76., 77., 78., 79.],\n",
              "          [80., 81., 82., 83., 84., 85., 86., 87., 88., 89.],\n",
              "          [90., 91., 92., 93., 94., 95., 96., 97., 98., 99.]]]))"
            ]
          },
          "metadata": {},
          "execution_count": 35
        }
      ]
    },
    {
      "cell_type": "code",
      "source": [
        "pooling = torch.nn.AdaptiveAvgPool2d((20, 20))\n",
        "y = pooling(x)\n",
        "y.shape, y"
      ],
      "metadata": {
        "colab": {
          "base_uri": "https://localhost:8080/"
        },
        "id": "6hvCJKmBLbmW",
        "outputId": "3738ad51-ed4b-49cc-b015-af92c142bad5"
      },
      "execution_count": 36,
      "outputs": [
        {
          "output_type": "execute_result",
          "data": {
            "text/plain": [
              "(torch.Size([1, 20, 20]),\n",
              " tensor([[[ 0.,  0.,  1.,  1.,  2.,  2.,  3.,  3.,  4.,  4.,  5.,  5.,  6.,  6.,\n",
              "            7.,  7.,  8.,  8.,  9.,  9.],\n",
              "          [ 0.,  0.,  1.,  1.,  2.,  2.,  3.,  3.,  4.,  4.,  5.,  5.,  6.,  6.,\n",
              "            7.,  7.,  8.,  8.,  9.,  9.],\n",
              "          [10., 10., 11., 11., 12., 12., 13., 13., 14., 14., 15., 15., 16., 16.,\n",
              "           17., 17., 18., 18., 19., 19.],\n",
              "          [10., 10., 11., 11., 12., 12., 13., 13., 14., 14., 15., 15., 16., 16.,\n",
              "           17., 17., 18., 18., 19., 19.],\n",
              "          [20., 20., 21., 21., 22., 22., 23., 23., 24., 24., 25., 25., 26., 26.,\n",
              "           27., 27., 28., 28., 29., 29.],\n",
              "          [20., 20., 21., 21., 22., 22., 23., 23., 24., 24., 25., 25., 26., 26.,\n",
              "           27., 27., 28., 28., 29., 29.],\n",
              "          [30., 30., 31., 31., 32., 32., 33., 33., 34., 34., 35., 35., 36., 36.,\n",
              "           37., 37., 38., 38., 39., 39.],\n",
              "          [30., 30., 31., 31., 32., 32., 33., 33., 34., 34., 35., 35., 36., 36.,\n",
              "           37., 37., 38., 38., 39., 39.],\n",
              "          [40., 40., 41., 41., 42., 42., 43., 43., 44., 44., 45., 45., 46., 46.,\n",
              "           47., 47., 48., 48., 49., 49.],\n",
              "          [40., 40., 41., 41., 42., 42., 43., 43., 44., 44., 45., 45., 46., 46.,\n",
              "           47., 47., 48., 48., 49., 49.],\n",
              "          [50., 50., 51., 51., 52., 52., 53., 53., 54., 54., 55., 55., 56., 56.,\n",
              "           57., 57., 58., 58., 59., 59.],\n",
              "          [50., 50., 51., 51., 52., 52., 53., 53., 54., 54., 55., 55., 56., 56.,\n",
              "           57., 57., 58., 58., 59., 59.],\n",
              "          [60., 60., 61., 61., 62., 62., 63., 63., 64., 64., 65., 65., 66., 66.,\n",
              "           67., 67., 68., 68., 69., 69.],\n",
              "          [60., 60., 61., 61., 62., 62., 63., 63., 64., 64., 65., 65., 66., 66.,\n",
              "           67., 67., 68., 68., 69., 69.],\n",
              "          [70., 70., 71., 71., 72., 72., 73., 73., 74., 74., 75., 75., 76., 76.,\n",
              "           77., 77., 78., 78., 79., 79.],\n",
              "          [70., 70., 71., 71., 72., 72., 73., 73., 74., 74., 75., 75., 76., 76.,\n",
              "           77., 77., 78., 78., 79., 79.],\n",
              "          [80., 80., 81., 81., 82., 82., 83., 83., 84., 84., 85., 85., 86., 86.,\n",
              "           87., 87., 88., 88., 89., 89.],\n",
              "          [80., 80., 81., 81., 82., 82., 83., 83., 84., 84., 85., 85., 86., 86.,\n",
              "           87., 87., 88., 88., 89., 89.],\n",
              "          [90., 90., 91., 91., 92., 92., 93., 93., 94., 94., 95., 95., 96., 96.,\n",
              "           97., 97., 98., 98., 99., 99.],\n",
              "          [90., 90., 91., 91., 92., 92., 93., 93., 94., 94., 95., 95., 96., 96.,\n",
              "           97., 97., 98., 98., 99., 99.]]]))"
            ]
          },
          "metadata": {},
          "execution_count": 36
        }
      ]
    },
    {
      "cell_type": "code",
      "source": [
        "pooling = torch.nn.AdaptiveAvgPool2d((3, 3))\n",
        "y = pooling(x)\n",
        "y.shape, y"
      ],
      "metadata": {
        "colab": {
          "base_uri": "https://localhost:8080/"
        },
        "id": "a52JMxY7LebX",
        "outputId": "e957bf27-8779-4e2b-90f1-3c6395359d35"
      },
      "execution_count": 37,
      "outputs": [
        {
          "output_type": "execute_result",
          "data": {
            "text/plain": [
              "(torch.Size([1, 3, 3]),\n",
              " tensor([[[16.5000, 19.5000, 22.5000],\n",
              "          [46.5000, 49.5000, 52.5000],\n",
              "          [76.5000, 79.5000, 82.5000]]]))"
            ]
          },
          "metadata": {},
          "execution_count": 37
        }
      ]
    },
    {
      "cell_type": "code",
      "source": [],
      "metadata": {
        "id": "SR7KcWDpLfWj"
      },
      "execution_count": null,
      "outputs": []
    }
  ]
}