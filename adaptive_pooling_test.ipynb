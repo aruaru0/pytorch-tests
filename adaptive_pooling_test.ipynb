{
  "nbformat": 4,
  "nbformat_minor": 0,
  "metadata": {
    "colab": {
      "provenance": [],
      "authorship_tag": "ABX9TyPJzybyb1Nu6FsyR3iQr/XS",
      "include_colab_link": true
    },
    "kernelspec": {
      "name": "python3",
      "display_name": "Python 3"
    },
    "language_info": {
      "name": "python"
    }
  },
  "cells": [
    {
      "cell_type": "markdown",
      "metadata": {
        "id": "view-in-github",
        "colab_type": "text"
      },
      "source": [
        "<a href=\"https://colab.research.google.com/github/aruaru0/pytorch-tests/blob/main/adaptive_pooling_test.ipynb\" target=\"_parent\"><img src=\"https://colab.research.google.com/assets/colab-badge.svg\" alt=\"Open In Colab\"/></a>"
      ]
    },
    {
      "cell_type": "code",
      "execution_count": 1,
      "metadata": {
        "id": "nz-KUhFVLAby"
      },
      "outputs": [],
      "source": [
        "import torch"
      ]
    },
    {
      "cell_type": "code",
      "source": [
        "x = torch.tensor([float(i) for i in range(100)]).reshape(1, 10, 10)\n",
        "x.shape, x"
      ],
      "metadata": {
        "colab": {
          "base_uri": "https://localhost:8080/"
        },
        "id": "zeqIcR8ZLODE",
        "outputId": "48d4cbfa-e002-4d97-cb8e-b6541d4f3b71"
      },
      "execution_count": 29,
      "outputs": [
        {
          "output_type": "execute_result",
          "data": {
            "text/plain": [
              "(torch.Size([1, 10, 10]),\n",
              " tensor([[[ 0.,  1.,  2.,  3.,  4.,  5.,  6.,  7.,  8.,  9.],\n",
              "          [10., 11., 12., 13., 14., 15., 16., 17., 18., 19.],\n",
              "          [20., 21., 22., 23., 24., 25., 26., 27., 28., 29.],\n",
              "          [30., 31., 32., 33., 34., 35., 36., 37., 38., 39.],\n",
              "          [40., 41., 42., 43., 44., 45., 46., 47., 48., 49.],\n",
              "          [50., 51., 52., 53., 54., 55., 56., 57., 58., 59.],\n",
              "          [60., 61., 62., 63., 64., 65., 66., 67., 68., 69.],\n",
              "          [70., 71., 72., 73., 74., 75., 76., 77., 78., 79.],\n",
              "          [80., 81., 82., 83., 84., 85., 86., 87., 88., 89.],\n",
              "          [90., 91., 92., 93., 94., 95., 96., 97., 98., 99.]]]))"
            ]
          },
          "metadata": {},
          "execution_count": 29
        }
      ]
    },
    {
      "cell_type": "code",
      "source": [
        "avepool = torch.nn.AdaptiveAvgPool2d((5, 5))\n",
        "maxpool = torch.nn.AdaptiveMaxPool2d((5, 5))"
      ],
      "metadata": {
        "id": "E0TEgO9fLxC-"
      },
      "execution_count": 30,
      "outputs": []
    },
    {
      "cell_type": "code",
      "source": [
        "y = avepool(x)\n",
        "y.shape, y"
      ],
      "metadata": {
        "colab": {
          "base_uri": "https://localhost:8080/"
        },
        "id": "xhZqvz_rMYr-",
        "outputId": "52785b89-ecb4-4698-e100-d9ed373b26fe"
      },
      "execution_count": 32,
      "outputs": [
        {
          "output_type": "execute_result",
          "data": {
            "text/plain": [
              "(torch.Size([1, 5, 5]),\n",
              " tensor([[[ 5.5000,  7.5000,  9.5000, 11.5000, 13.5000],\n",
              "          [25.5000, 27.5000, 29.5000, 31.5000, 33.5000],\n",
              "          [45.5000, 47.5000, 49.5000, 51.5000, 53.5000],\n",
              "          [65.5000, 67.5000, 69.5000, 71.5000, 73.5000],\n",
              "          [85.5000, 87.5000, 89.5000, 91.5000, 93.5000]]]))"
            ]
          },
          "metadata": {},
          "execution_count": 32
        }
      ]
    },
    {
      "cell_type": "code",
      "source": [
        "y = maxpool(x)\n",
        "y.shape, y"
      ],
      "metadata": {
        "colab": {
          "base_uri": "https://localhost:8080/"
        },
        "id": "uZCLNLfMLRYH",
        "outputId": "2ca1c44a-e09f-4033-aae4-d3fc78a88dcd"
      },
      "execution_count": 33,
      "outputs": [
        {
          "output_type": "execute_result",
          "data": {
            "text/plain": [
              "(torch.Size([1, 5, 5]),\n",
              " tensor([[[11., 13., 15., 17., 19.],\n",
              "          [31., 33., 35., 37., 39.],\n",
              "          [51., 53., 55., 57., 59.],\n",
              "          [71., 73., 75., 77., 79.],\n",
              "          [91., 93., 95., 97., 99.]]]))"
            ]
          },
          "metadata": {},
          "execution_count": 33
        }
      ]
    },
    {
      "cell_type": "code",
      "source": [
        "pooling = torch.nn.AdaptiveAvgPool2d((10, 10))\n",
        "y = pooling(x)\n",
        "y.shape, y"
      ],
      "metadata": {
        "colab": {
          "base_uri": "https://localhost:8080/"
        },
        "id": "hISmRRV8LW9K",
        "outputId": "3f14e517-0b98-44de-bb9b-98641b784289"
      },
      "execution_count": 35,
      "outputs": [
        {
          "output_type": "execute_result",
          "data": {
            "text/plain": [
              "(torch.Size([1, 10, 10]),\n",
              " tensor([[[ 0.,  1.,  2.,  3.,  4.,  5.,  6.,  7.,  8.,  9.],\n",
              "          [10., 11., 12., 13., 14., 15., 16., 17., 18., 19.],\n",
              "          [20., 21., 22., 23., 24., 25., 26., 27., 28., 29.],\n",
              "          [30., 31., 32., 33., 34., 35., 36., 37., 38., 39.],\n",
              "          [40., 41., 42., 43., 44., 45., 46., 47., 48., 49.],\n",
              "          [50., 51., 52., 53., 54., 55., 56., 57., 58., 59.],\n",
              "          [60., 61., 62., 63., 64., 65., 66., 67., 68., 69.],\n",
              "          [70., 71., 72., 73., 74., 75., 76., 77., 78., 79.],\n",
              "          [80., 81., 82., 83., 84., 85., 86., 87., 88., 89.],\n",
              "          [90., 91., 92., 93., 94., 95., 96., 97., 98., 99.]]]))"
            ]
          },
          "metadata": {},
          "execution_count": 35
        }
      ]
    },
    {
      "cell_type": "code",
      "source": [
        "pooling = torch.nn.AdaptiveAvgPool2d((20, 20))\n",
        "y = pooling(x)\n",
        "y.shape, y"
      ],
      "metadata": {
        "colab": {
          "base_uri": "https://localhost:8080/"
        },
        "id": "6hvCJKmBLbmW",
        "outputId": "3738ad51-ed4b-49cc-b015-af92c142bad5"
      },
      "execution_count": 36,
      "outputs": [
        {
          "output_type": "execute_result",
          "data": {
            "text/plain": [
              "(torch.Size([1, 20, 20]),\n",
              " tensor([[[ 0.,  0.,  1.,  1.,  2.,  2.,  3.,  3.,  4.,  4.,  5.,  5.,  6.,  6.,\n",
              "            7.,  7.,  8.,  8.,  9.,  9.],\n",
              "          [ 0.,  0.,  1.,  1.,  2.,  2.,  3.,  3.,  4.,  4.,  5.,  5.,  6.,  6.,\n",
              "            7.,  7.,  8.,  8.,  9.,  9.],\n",
              "          [10., 10., 11., 11., 12., 12., 13., 13., 14., 14., 15., 15., 16., 16.,\n",
              "           17., 17., 18., 18., 19., 19.],\n",
              "          [10., 10., 11., 11., 12., 12., 13., 13., 14., 14., 15., 15., 16., 16.,\n",
              "           17., 17., 18., 18., 19., 19.],\n",
              "          [20., 20., 21., 21., 22., 22., 23., 23., 24., 24., 25., 25., 26., 26.,\n",
              "           27., 27., 28., 28., 29., 29.],\n",
              "          [20., 20., 21., 21., 22., 22., 23., 23., 24., 24., 25., 25., 26., 26.,\n",
              "           27., 27., 28., 28., 29., 29.],\n",
              "          [30., 30., 31., 31., 32., 32., 33., 33., 34., 34., 35., 35., 36., 36.,\n",
              "           37., 37., 38., 38., 39., 39.],\n",
              "          [30., 30., 31., 31., 32., 32., 33., 33., 34., 34., 35., 35., 36., 36.,\n",
              "           37., 37., 38., 38., 39., 39.],\n",
              "          [40., 40., 41., 41., 42., 42., 43., 43., 44., 44., 45., 45., 46., 46.,\n",
              "           47., 47., 48., 48., 49., 49.],\n",
              "          [40., 40., 41., 41., 42., 42., 43., 43., 44., 44., 45., 45., 46., 46.,\n",
              "           47., 47., 48., 48., 49., 49.],\n",
              "          [50., 50., 51., 51., 52., 52., 53., 53., 54., 54., 55., 55., 56., 56.,\n",
              "           57., 57., 58., 58., 59., 59.],\n",
              "          [50., 50., 51., 51., 52., 52., 53., 53., 54., 54., 55., 55., 56., 56.,\n",
              "           57., 57., 58., 58., 59., 59.],\n",
              "          [60., 60., 61., 61., 62., 62., 63., 63., 64., 64., 65., 65., 66., 66.,\n",
              "           67., 67., 68., 68., 69., 69.],\n",
              "          [60., 60., 61., 61., 62., 62., 63., 63., 64., 64., 65., 65., 66., 66.,\n",
              "           67., 67., 68., 68., 69., 69.],\n",
              "          [70., 70., 71., 71., 72., 72., 73., 73., 74., 74., 75., 75., 76., 76.,\n",
              "           77., 77., 78., 78., 79., 79.],\n",
              "          [70., 70., 71., 71., 72., 72., 73., 73., 74., 74., 75., 75., 76., 76.,\n",
              "           77., 77., 78., 78., 79., 79.],\n",
              "          [80., 80., 81., 81., 82., 82., 83., 83., 84., 84., 85., 85., 86., 86.,\n",
              "           87., 87., 88., 88., 89., 89.],\n",
              "          [80., 80., 81., 81., 82., 82., 83., 83., 84., 84., 85., 85., 86., 86.,\n",
              "           87., 87., 88., 88., 89., 89.],\n",
              "          [90., 90., 91., 91., 92., 92., 93., 93., 94., 94., 95., 95., 96., 96.,\n",
              "           97., 97., 98., 98., 99., 99.],\n",
              "          [90., 90., 91., 91., 92., 92., 93., 93., 94., 94., 95., 95., 96., 96.,\n",
              "           97., 97., 98., 98., 99., 99.]]]))"
            ]
          },
          "metadata": {},
          "execution_count": 36
        }
      ]
    },
    {
      "cell_type": "code",
      "source": [
        "pooling = torch.nn.AdaptiveAvgPool2d((3, 3))\n",
        "y = pooling(x)\n",
        "y.shape, y"
      ],
      "metadata": {
        "colab": {
          "base_uri": "https://localhost:8080/"
        },
        "id": "a52JMxY7LebX",
        "outputId": "e957bf27-8779-4e2b-90f1-3c6395359d35"
      },
      "execution_count": 37,
      "outputs": [
        {
          "output_type": "execute_result",
          "data": {
            "text/plain": [
              "(torch.Size([1, 3, 3]),\n",
              " tensor([[[16.5000, 19.5000, 22.5000],\n",
              "          [46.5000, 49.5000, 52.5000],\n",
              "          [76.5000, 79.5000, 82.5000]]]))"
            ]
          },
          "metadata": {},
          "execution_count": 37
        }
      ]
    },
    {
      "cell_type": "code",
      "source": [
        "!pip install timm"
      ],
      "metadata": {
        "colab": {
          "base_uri": "https://localhost:8080/"
        },
        "id": "SR7KcWDpLfWj",
        "outputId": "cc17a5f9-e178-49ec-c34e-00c419e05cfc"
      },
      "execution_count": 40,
      "outputs": [
        {
          "output_type": "stream",
          "name": "stdout",
          "text": [
            "Collecting timm\n",
            "  Downloading timm-0.9.11-py3-none-any.whl (2.2 MB)\n",
            "\u001b[?25l     \u001b[90m━━━━━━━━━━━━━━━━━━━━━━━━━━━━━━━━━━━━━━━━\u001b[0m \u001b[32m0.0/2.2 MB\u001b[0m \u001b[31m?\u001b[0m eta \u001b[36m-:--:--\u001b[0m\r\u001b[2K     \u001b[91m━━━━━━━━\u001b[0m\u001b[90m╺\u001b[0m\u001b[90m━━━━━━━━━━━━━━━━━━━━━━━━━━━━━━━\u001b[0m \u001b[32m0.5/2.2 MB\u001b[0m \u001b[31m13.3 MB/s\u001b[0m eta \u001b[36m0:00:01\u001b[0m\r\u001b[2K     \u001b[90m━━━━━━━━━━━━━━━━━━━━━━━━━━━━━━━━━━━━━━━━\u001b[0m \u001b[32m2.2/2.2 MB\u001b[0m \u001b[31m32.9 MB/s\u001b[0m eta \u001b[36m0:00:00\u001b[0m\n",
            "\u001b[?25hRequirement already satisfied: torch>=1.7 in /usr/local/lib/python3.10/dist-packages (from timm) (2.1.0+cu118)\n",
            "Requirement already satisfied: torchvision in /usr/local/lib/python3.10/dist-packages (from timm) (0.16.0+cu118)\n",
            "Requirement already satisfied: pyyaml in /usr/local/lib/python3.10/dist-packages (from timm) (6.0.1)\n",
            "Requirement already satisfied: huggingface-hub in /usr/local/lib/python3.10/dist-packages (from timm) (0.19.4)\n",
            "Requirement already satisfied: safetensors in /usr/local/lib/python3.10/dist-packages (from timm) (0.4.0)\n",
            "Requirement already satisfied: filelock in /usr/local/lib/python3.10/dist-packages (from torch>=1.7->timm) (3.13.1)\n",
            "Requirement already satisfied: typing-extensions in /usr/local/lib/python3.10/dist-packages (from torch>=1.7->timm) (4.5.0)\n",
            "Requirement already satisfied: sympy in /usr/local/lib/python3.10/dist-packages (from torch>=1.7->timm) (1.12)\n",
            "Requirement already satisfied: networkx in /usr/local/lib/python3.10/dist-packages (from torch>=1.7->timm) (3.2.1)\n",
            "Requirement already satisfied: jinja2 in /usr/local/lib/python3.10/dist-packages (from torch>=1.7->timm) (3.1.2)\n",
            "Requirement already satisfied: fsspec in /usr/local/lib/python3.10/dist-packages (from torch>=1.7->timm) (2023.6.0)\n",
            "Requirement already satisfied: triton==2.1.0 in /usr/local/lib/python3.10/dist-packages (from torch>=1.7->timm) (2.1.0)\n",
            "Requirement already satisfied: requests in /usr/local/lib/python3.10/dist-packages (from huggingface-hub->timm) (2.31.0)\n",
            "Requirement already satisfied: tqdm>=4.42.1 in /usr/local/lib/python3.10/dist-packages (from huggingface-hub->timm) (4.66.1)\n",
            "Requirement already satisfied: packaging>=20.9 in /usr/local/lib/python3.10/dist-packages (from huggingface-hub->timm) (23.2)\n",
            "Requirement already satisfied: numpy in /usr/local/lib/python3.10/dist-packages (from torchvision->timm) (1.23.5)\n",
            "Requirement already satisfied: pillow!=8.3.*,>=5.3.0 in /usr/local/lib/python3.10/dist-packages (from torchvision->timm) (9.4.0)\n",
            "Requirement already satisfied: MarkupSafe>=2.0 in /usr/local/lib/python3.10/dist-packages (from jinja2->torch>=1.7->timm) (2.1.3)\n",
            "Requirement already satisfied: charset-normalizer<4,>=2 in /usr/local/lib/python3.10/dist-packages (from requests->huggingface-hub->timm) (3.3.2)\n",
            "Requirement already satisfied: idna<4,>=2.5 in /usr/local/lib/python3.10/dist-packages (from requests->huggingface-hub->timm) (3.4)\n",
            "Requirement already satisfied: urllib3<3,>=1.21.1 in /usr/local/lib/python3.10/dist-packages (from requests->huggingface-hub->timm) (2.0.7)\n",
            "Requirement already satisfied: certifi>=2017.4.17 in /usr/local/lib/python3.10/dist-packages (from requests->huggingface-hub->timm) (2023.7.22)\n",
            "Requirement already satisfied: mpmath>=0.19 in /usr/local/lib/python3.10/dist-packages (from sympy->torch>=1.7->timm) (1.3.0)\n",
            "Installing collected packages: timm\n",
            "Successfully installed timm-0.9.11\n"
          ]
        }
      ]
    },
    {
      "cell_type": "code",
      "source": [
        "import timm"
      ],
      "metadata": {
        "id": "7TEFDUPsUqCQ"
      },
      "execution_count": 41,
      "outputs": []
    },
    {
      "cell_type": "code",
      "source": [
        "model = timm.create_model('resnet18')"
      ],
      "metadata": {
        "id": "zDvJx57qUuUP"
      },
      "execution_count": 42,
      "outputs": []
    },
    {
      "cell_type": "code",
      "source": [
        "model"
      ],
      "metadata": {
        "colab": {
          "base_uri": "https://localhost:8080/"
        },
        "id": "mpnSyh_XUw_8",
        "outputId": "2f1b112b-4378-4adf-a798-d5fa8cfa6788"
      },
      "execution_count": 43,
      "outputs": [
        {
          "output_type": "execute_result",
          "data": {
            "text/plain": [
              "ResNet(\n",
              "  (conv1): Conv2d(3, 64, kernel_size=(7, 7), stride=(2, 2), padding=(3, 3), bias=False)\n",
              "  (bn1): BatchNorm2d(64, eps=1e-05, momentum=0.1, affine=True, track_running_stats=True)\n",
              "  (act1): ReLU(inplace=True)\n",
              "  (maxpool): MaxPool2d(kernel_size=3, stride=2, padding=1, dilation=1, ceil_mode=False)\n",
              "  (layer1): Sequential(\n",
              "    (0): BasicBlock(\n",
              "      (conv1): Conv2d(64, 64, kernel_size=(3, 3), stride=(1, 1), padding=(1, 1), bias=False)\n",
              "      (bn1): BatchNorm2d(64, eps=1e-05, momentum=0.1, affine=True, track_running_stats=True)\n",
              "      (drop_block): Identity()\n",
              "      (act1): ReLU(inplace=True)\n",
              "      (aa): Identity()\n",
              "      (conv2): Conv2d(64, 64, kernel_size=(3, 3), stride=(1, 1), padding=(1, 1), bias=False)\n",
              "      (bn2): BatchNorm2d(64, eps=1e-05, momentum=0.1, affine=True, track_running_stats=True)\n",
              "      (act2): ReLU(inplace=True)\n",
              "    )\n",
              "    (1): BasicBlock(\n",
              "      (conv1): Conv2d(64, 64, kernel_size=(3, 3), stride=(1, 1), padding=(1, 1), bias=False)\n",
              "      (bn1): BatchNorm2d(64, eps=1e-05, momentum=0.1, affine=True, track_running_stats=True)\n",
              "      (drop_block): Identity()\n",
              "      (act1): ReLU(inplace=True)\n",
              "      (aa): Identity()\n",
              "      (conv2): Conv2d(64, 64, kernel_size=(3, 3), stride=(1, 1), padding=(1, 1), bias=False)\n",
              "      (bn2): BatchNorm2d(64, eps=1e-05, momentum=0.1, affine=True, track_running_stats=True)\n",
              "      (act2): ReLU(inplace=True)\n",
              "    )\n",
              "  )\n",
              "  (layer2): Sequential(\n",
              "    (0): BasicBlock(\n",
              "      (conv1): Conv2d(64, 128, kernel_size=(3, 3), stride=(2, 2), padding=(1, 1), bias=False)\n",
              "      (bn1): BatchNorm2d(128, eps=1e-05, momentum=0.1, affine=True, track_running_stats=True)\n",
              "      (drop_block): Identity()\n",
              "      (act1): ReLU(inplace=True)\n",
              "      (aa): Identity()\n",
              "      (conv2): Conv2d(128, 128, kernel_size=(3, 3), stride=(1, 1), padding=(1, 1), bias=False)\n",
              "      (bn2): BatchNorm2d(128, eps=1e-05, momentum=0.1, affine=True, track_running_stats=True)\n",
              "      (act2): ReLU(inplace=True)\n",
              "      (downsample): Sequential(\n",
              "        (0): Conv2d(64, 128, kernel_size=(1, 1), stride=(2, 2), bias=False)\n",
              "        (1): BatchNorm2d(128, eps=1e-05, momentum=0.1, affine=True, track_running_stats=True)\n",
              "      )\n",
              "    )\n",
              "    (1): BasicBlock(\n",
              "      (conv1): Conv2d(128, 128, kernel_size=(3, 3), stride=(1, 1), padding=(1, 1), bias=False)\n",
              "      (bn1): BatchNorm2d(128, eps=1e-05, momentum=0.1, affine=True, track_running_stats=True)\n",
              "      (drop_block): Identity()\n",
              "      (act1): ReLU(inplace=True)\n",
              "      (aa): Identity()\n",
              "      (conv2): Conv2d(128, 128, kernel_size=(3, 3), stride=(1, 1), padding=(1, 1), bias=False)\n",
              "      (bn2): BatchNorm2d(128, eps=1e-05, momentum=0.1, affine=True, track_running_stats=True)\n",
              "      (act2): ReLU(inplace=True)\n",
              "    )\n",
              "  )\n",
              "  (layer3): Sequential(\n",
              "    (0): BasicBlock(\n",
              "      (conv1): Conv2d(128, 256, kernel_size=(3, 3), stride=(2, 2), padding=(1, 1), bias=False)\n",
              "      (bn1): BatchNorm2d(256, eps=1e-05, momentum=0.1, affine=True, track_running_stats=True)\n",
              "      (drop_block): Identity()\n",
              "      (act1): ReLU(inplace=True)\n",
              "      (aa): Identity()\n",
              "      (conv2): Conv2d(256, 256, kernel_size=(3, 3), stride=(1, 1), padding=(1, 1), bias=False)\n",
              "      (bn2): BatchNorm2d(256, eps=1e-05, momentum=0.1, affine=True, track_running_stats=True)\n",
              "      (act2): ReLU(inplace=True)\n",
              "      (downsample): Sequential(\n",
              "        (0): Conv2d(128, 256, kernel_size=(1, 1), stride=(2, 2), bias=False)\n",
              "        (1): BatchNorm2d(256, eps=1e-05, momentum=0.1, affine=True, track_running_stats=True)\n",
              "      )\n",
              "    )\n",
              "    (1): BasicBlock(\n",
              "      (conv1): Conv2d(256, 256, kernel_size=(3, 3), stride=(1, 1), padding=(1, 1), bias=False)\n",
              "      (bn1): BatchNorm2d(256, eps=1e-05, momentum=0.1, affine=True, track_running_stats=True)\n",
              "      (drop_block): Identity()\n",
              "      (act1): ReLU(inplace=True)\n",
              "      (aa): Identity()\n",
              "      (conv2): Conv2d(256, 256, kernel_size=(3, 3), stride=(1, 1), padding=(1, 1), bias=False)\n",
              "      (bn2): BatchNorm2d(256, eps=1e-05, momentum=0.1, affine=True, track_running_stats=True)\n",
              "      (act2): ReLU(inplace=True)\n",
              "    )\n",
              "  )\n",
              "  (layer4): Sequential(\n",
              "    (0): BasicBlock(\n",
              "      (conv1): Conv2d(256, 512, kernel_size=(3, 3), stride=(2, 2), padding=(1, 1), bias=False)\n",
              "      (bn1): BatchNorm2d(512, eps=1e-05, momentum=0.1, affine=True, track_running_stats=True)\n",
              "      (drop_block): Identity()\n",
              "      (act1): ReLU(inplace=True)\n",
              "      (aa): Identity()\n",
              "      (conv2): Conv2d(512, 512, kernel_size=(3, 3), stride=(1, 1), padding=(1, 1), bias=False)\n",
              "      (bn2): BatchNorm2d(512, eps=1e-05, momentum=0.1, affine=True, track_running_stats=True)\n",
              "      (act2): ReLU(inplace=True)\n",
              "      (downsample): Sequential(\n",
              "        (0): Conv2d(256, 512, kernel_size=(1, 1), stride=(2, 2), bias=False)\n",
              "        (1): BatchNorm2d(512, eps=1e-05, momentum=0.1, affine=True, track_running_stats=True)\n",
              "      )\n",
              "    )\n",
              "    (1): BasicBlock(\n",
              "      (conv1): Conv2d(512, 512, kernel_size=(3, 3), stride=(1, 1), padding=(1, 1), bias=False)\n",
              "      (bn1): BatchNorm2d(512, eps=1e-05, momentum=0.1, affine=True, track_running_stats=True)\n",
              "      (drop_block): Identity()\n",
              "      (act1): ReLU(inplace=True)\n",
              "      (aa): Identity()\n",
              "      (conv2): Conv2d(512, 512, kernel_size=(3, 3), stride=(1, 1), padding=(1, 1), bias=False)\n",
              "      (bn2): BatchNorm2d(512, eps=1e-05, momentum=0.1, affine=True, track_running_stats=True)\n",
              "      (act2): ReLU(inplace=True)\n",
              "    )\n",
              "  )\n",
              "  (global_pool): SelectAdaptivePool2d(pool_type=avg, flatten=Flatten(start_dim=1, end_dim=-1))\n",
              "  (fc): Linear(in_features=512, out_features=1000, bias=True)\n",
              ")"
            ]
          },
          "metadata": {},
          "execution_count": 43
        }
      ]
    },
    {
      "cell_type": "code",
      "source": [
        "from timm.layers import SelectAdaptivePool2d"
      ],
      "metadata": {
        "id": "gzXdj-QjU0le"
      },
      "execution_count": 44,
      "outputs": []
    },
    {
      "cell_type": "markdown",
      "source": [
        "avg : 平均プーリング\n",
        "\n",
        "max : 最大プーリング\n",
        "\n",
        "avgmax:平均プーリングと最大プーリングの合計、0.5 で再スケーリング\n",
        "\n",
        "catavgmax:特徴次元に沿った平均プーリングと最大プーリングの出力の連結。これにより、フィーチャの寸法が 2 倍になることに注意してください。"
      ],
      "metadata": {
        "id": "tP-JJlxkXLDY"
      }
    },
    {
      "cell_type": "code",
      "source": [
        "pooling = SelectAdaptivePool2d(output_size=1, flatten=torch.nn.Flatten(start_dim=1, end_dim=-1), pool_type=\"avg\")"
      ],
      "metadata": {
        "id": "elGRWDtoVWo6"
      },
      "execution_count": 91,
      "outputs": []
    },
    {
      "cell_type": "code",
      "source": [
        "x = torch.tensor([float(i) for i in range(500)]).reshape(1, 5, 10, 10)\n",
        "\n",
        "pooling(x)"
      ],
      "metadata": {
        "colab": {
          "base_uri": "https://localhost:8080/"
        },
        "id": "1CW5cLCjVhV0",
        "outputId": "a684230b-a361-436d-de9e-4fc1cc5f8dd9"
      },
      "execution_count": 92,
      "outputs": [
        {
          "output_type": "execute_result",
          "data": {
            "text/plain": [
              "tensor([[ 49.5000, 149.5000, 249.5000, 349.5000, 449.5000]])"
            ]
          },
          "metadata": {},
          "execution_count": 92
        }
      ]
    },
    {
      "cell_type": "code",
      "source": [
        "t = torch.tensor([i for i in range(8)]).reshape(2,2,2)\n",
        "t"
      ],
      "metadata": {
        "colab": {
          "base_uri": "https://localhost:8080/"
        },
        "id": "jhvZffUDV3oR",
        "outputId": "cfaaa0ff-09d5-4878-a872-a96d69a02351"
      },
      "execution_count": 84,
      "outputs": [
        {
          "output_type": "execute_result",
          "data": {
            "text/plain": [
              "tensor([[[0, 1],\n",
              "         [2, 3]],\n",
              "\n",
              "        [[4, 5],\n",
              "         [6, 7]]])"
            ]
          },
          "metadata": {},
          "execution_count": 84
        }
      ]
    },
    {
      "cell_type": "code",
      "source": [
        "torch.flatten(t)"
      ],
      "metadata": {
        "colab": {
          "base_uri": "https://localhost:8080/"
        },
        "id": "v2YOxj4XWIjs",
        "outputId": "7dc418cf-50d5-47e1-bfc6-e4e105284058"
      },
      "execution_count": 68,
      "outputs": [
        {
          "output_type": "execute_result",
          "data": {
            "text/plain": [
              "tensor([0, 1, 2, 3, 4, 5, 6, 7])"
            ]
          },
          "metadata": {},
          "execution_count": 68
        }
      ]
    },
    {
      "cell_type": "code",
      "source": [
        "torch.flatten(t, start_dim=0, end_dim=-1)"
      ],
      "metadata": {
        "colab": {
          "base_uri": "https://localhost:8080/"
        },
        "id": "xkr0O0r5WchJ",
        "outputId": "aa794d7f-d734-4ad4-babf-2de1b4fd426d"
      },
      "execution_count": 77,
      "outputs": [
        {
          "output_type": "execute_result",
          "data": {
            "text/plain": [
              "tensor([0, 1, 2, 3, 4, 5, 6, 7])"
            ]
          },
          "metadata": {},
          "execution_count": 77
        }
      ]
    },
    {
      "cell_type": "code",
      "source": [
        "import torch\n",
        "from timm import create_model\n",
        "\n",
        "# SelectAdaptivePool2d 層の作成\n",
        "pool = SelectAdaptivePool2d(output_size=1, pool_type=\"max\")\n",
        "\n",
        "# 入力画像の作成\n",
        "x = torch.randn(1, 3, 100, 100)\n",
        "\n",
        "# プーリングの実行\n",
        "y = pool(x)\n",
        "\n",
        "# 出力サイズの表示\n",
        "print(y.size())"
      ],
      "metadata": {
        "colab": {
          "base_uri": "https://localhost:8080/"
        },
        "id": "0-yUjpVdWpHL",
        "outputId": "ce3217a8-40d3-4cdd-d97b-a4b6bacf9fc2"
      },
      "execution_count": 103,
      "outputs": [
        {
          "output_type": "stream",
          "name": "stdout",
          "text": [
            "torch.Size([1, 3, 1, 1])\n"
          ]
        }
      ]
    },
    {
      "cell_type": "code",
      "source": [],
      "metadata": {
        "id": "Dim2qnufYeF7"
      },
      "execution_count": null,
      "outputs": []
    }
  ]
}