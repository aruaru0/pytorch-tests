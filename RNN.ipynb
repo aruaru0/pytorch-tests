{
  "cells": [
    {
      "cell_type": "markdown",
      "metadata": {
        "id": "view-in-github",
        "colab_type": "text"
      },
      "source": [
        "<a href=\"https://colab.research.google.com/github/aruaru0/pytorch-tests/blob/main/RNN.ipynb\" target=\"_parent\"><img src=\"https://colab.research.google.com/assets/colab-badge.svg\" alt=\"Open In Colab\"/></a>"
      ]
    },
    {
      "cell_type": "markdown",
      "source": [
        "# RNNを使って文字列を生成する"
      ],
      "metadata": {
        "id": "uy8wxdE-KMYR"
      }
    },
    {
      "cell_type": "code",
      "execution_count": 1,
      "metadata": {
        "id": "Hl-ZjsKL0gtT"
      },
      "outputs": [],
      "source": [
        "import numpy as np\n",
        "import matplotlib.pyplot as plt\n",
        "import torch\n",
        "import torch.nn as nn\n",
        "import torch.nn.functional as F\n",
        "from tqdm.notebook import tqdm\n",
        "import random"
      ]
    },
    {
      "cell_type": "markdown",
      "source": [
        "## 初期設定"
      ],
      "metadata": {
        "id": "BlQ6U_wMKTTY"
      }
    },
    {
      "cell_type": "code",
      "source": [
        "batch_size = 4\n",
        "n_layers = 2\n",
        "n_hidden = 16\n",
        "rnn_model = \"RNN\""
      ],
      "metadata": {
        "id": "L2nDtMZ7-zmf"
      },
      "execution_count": 35,
      "outputs": []
    },
    {
      "cell_type": "code",
      "execution_count": 36,
      "metadata": {
        "id": "K8Bm38A7ltvI"
      },
      "outputs": [],
      "source": [
        "# 「三銃士」より\n",
        "text = \"\"\"On the first Monday of the month of April, 1625, the market town of Meung, in which the author of Romance of the Rose was born, appeared to be in as perfect a state of revolution as if the Huguenots had just made a second La Rochelle of it. Many citizens, seeing the women flying toward the High Street, leaving their children crying at the open doors, hastened to don the cuirass, and supporting their somewhat uncertain courage with a musket or a partisan, directed their steps toward the hostelry of the Jolly Miller, before which was gathered, increasing every minute, a compact group, vociferous and full of curiosity.\n",
        "In those times panics were common, and few days passed without some city or other registering in its archives an event of this kind. There were nobles, who made war against each other; there was the king, who made war against the cardinal; there was Spain, which made war against the king. Then, in addition to these concealed or public, secret or open wars, there were robbers, mendicants, Huguenots, wolves, and scoundrels, who made war upon everybody. The citizens always took up arms readily against thieves, wolves or scoundrels, often against nobles or Huguenots, sometimes against the king, but never against the cardinal or Spain. It resulted, then, from this habit that on the said first Monday of April, 1625, the citizens, on hearing the clamor, and seeing neither the red-and-yellow standard nor the livery of the Duc de Richelieu, rushed toward the hostel of the Jolly Miller. When arrived there, the cause of the hubbub was apparent to all.\n",
        "A young man—we can sketch his portrait at a dash. Imagine to yourself a Don Quixote of eighteen; a Don Quixote without his corselet, without his coat of mail, without his cuisses; a Don Quixote clothed in a woolen doublet, the blue color of which had faded into a nameless shade between lees of wine and a heavenly azure; face long and brown; high cheek bones, a sign of sagacity; the maxillary muscles enormously developed, an infallible sign by which a Gascon may always be detected, even without his cap—and our young man wore a cap set off with a sort of feather; the eye open and intelligent; the nose hooked, but finely chiseled. Too big for a youth, too small for a grown man, an experienced eye might have taken him for a farmer’s son upon a journey had it not been for the long sword which, dangling from a leather baldric, hit against the calves of its owner as he walked, and against the rough side of his steed when he was on horseback.\n",
        "For our young man had a steed which was the observed of all observers. It was a Béarn pony, from twelve to fourteen years old, yellow in his hide, without a hair in his tail, but not without windgalls on his legs, which, though going with his head lower than his knees, rendering a martingale quite unnecessary, contrived nevertheless to perform his eight leagues a day. Unfortunately, the qualities of this horse were so well concealed under his strange-colored hide and his unaccountable gait, that at a time when everybody was a connoisseur in horseflesh, the appearance of the aforesaid pony at Meung—which place he had entered about a quarter of an hour before, by the gate of Beaugency—produced an unfavorable feeling, which extended to his rider.\n",
        "And this feeling had been more painfully perceived by young D’Artagnan—for so was the Don Quixote of this second Rosinante named—from his not being able to conceal from himself the ridiculous appearance that such a steed gave him, good horseman as he was. He had sighed deeply, therefore, when accepting the gift of the pony from M. d’Artagnan the elder. He was not ignorant that such a beast was worth at least twenty livres; and the words which had accompanied the present were above all price.\n",
        "“My son,” said the old Gascon gentleman, in that pure Béarn patois of which Henry IV. could never rid himself, “this horse was born in the house of your father about thirteen years ago, and has remained in it ever since, which ought to make you love it. Never sell it; allow it to die tranquilly and honorably of old age, and if you make a campaign with it, take as much care of it as you would of an old servant. At court, provided you have ever the honor to go there,” continued M. d’Artagnan the elder, “—an honor to which, remember, your ancient nobility gives you the right—sustain worthily your name of gentleman, which has been worthily borne by your ancestors for five hundred years, both for your own sake and the sake of those who belong to you. By the latter I mean your relatives and friends. Endure nothing from anyone except Monsieur the Cardinal and the king. It is by his courage, please observe, by his courage alone, that a gentleman can make his way nowadays. Whoever hesitates for a second perhaps allows the bait to escape which during that exact second fortune held out to him. You are young. You ought to be brave for two reasons: the first is that you are a Gascon, and the second is that you are my son. Never fear quarrels, but seek adventures. I have taught you how to handle a sword; you have thews of iron, a wrist of steel. Fight on all occasions. Fight the more for duels being forbidden, since consequently there is twice as much courage in fighting. I have nothing to give you, my son, but fifteen crowns, my horse, and the counsels you have just heard. Your mother will add to them a recipe for a certain balsam, which she had from a Bohemian and which has the miraculous virtue of curing all wounds that do not reach the heart. Take advantage of all, and live happily and long. I have but one word to add, and that is to propose an example to you—not mine, for I myself have never appeared at court, and have only taken part in religious wars as a volunteer; I speak of Monsieur de Tréville, who was formerly my neighbor, and who had the honor to be, as a child, the play-fellow of our king, Louis XIII., whom God preserve! Sometimes their play degenerated into battles, and in these battles the king was not always the stronger. The blows which he received increased greatly his esteem and friendship for Monsieur de Tréville. Afterward, Monsieur de Tréville fought with others: in his first journey to Paris, five times; from the death of the late king till the young one came of age, without reckoning wars and sieges, seven times; and from that date up to the present day, a hundred times, perhaps! So that in spite of edicts, ordinances, and decrees, there he is, captain of the Musketeers; that is to say, chief of a legion of Cæsars, whom the king holds in great esteem and whom the cardinal dreads—he who dreads nothing, as it is said. Still further, Monsieur de Tréville gains ten thousand crowns a year; he is therefore a great noble. He began as you begin. Go to him with this letter, and make him your model in order that you may do as he has done.”\n",
        "Upon which M. d’Artagnan the elder girded his own sword round his son, kissed him tenderly on both cheeks, and gave him his benediction.\n",
        "On leaving the paternal chamber, the young man found his mother, who was waiting for him with the famous recipe of which the counsels we have just repeated would necessitate frequent employment. The adieux were on this side longer and more tender than they had been on the other—not that M. d’Artagnan did not love his son, who was his only offspring, but M. d’Artagnan was a man, and he would have considered it unworthy of a man to give way to his feelings; whereas Mme. D’Artagnan was a woman, and still more, a mother. She wept abundantly; and—let us speak it to the praise of M. d’Artagnan the younger—notwithstanding the efforts he made to remain firm, as a future Musketeer ought, nature prevailed, and he shed many tears, of which he succeeded with great difficulty in concealing the half.\n",
        "The same day the young man set forward on his journey, furnished with the three paternal gifts, which consisted, as we have said, of fifteen crowns, the horse, and the letter for M. de Tréville—the counsels being thrown into the bargain.\n",
        "With such a vade mecum D’Artagnan was morally and physically an exact copy of the hero of Cervantes, to whom we so happily compared him when our duty of an historian placed us under the necessity of sketching his portrait. Don Quixote took windmills for giants, and sheep for armies; D’Artagnan took every smile for an insult, and every look as a provocation—whence it resulted that from Tarbes to Meung his fist was constantly doubled, or his hand on the hilt of his sword; and yet the fist did not descend upon any jaw, nor did the sword issue from its scabbard. It was not that the sight of the wretched pony did not excite numerous smiles on the countenances of passers-by; but as against the side of this pony rattled a sword of respectable length, and as over this sword gleamed an eye rather ferocious than haughty, these passers-by repressed their hilarity, or if hilarity prevailed over prudence, they endeavored to laugh only on one side, like the masks of the ancients. D’Artagnan, then, remained majestic and intact in his susceptibility, till he came to this unlucky city of Meung.\n",
        "But there, as he was alighting from his horse at the gate of the Jolly Miller, without anyone—host, waiter, or hostler—coming to hold his stirrup or take his horse, D’Artagnan spied, though an open window on the ground floor, a gentleman, well-made and of good carriage, although of rather a stern countenance, talking with two persons who appeared to listen to him with respect. D’Artagnan fancied quite naturally, according to his custom, that he must be the object of their conversation, and listened. This time D’Artagnan was only in part mistaken; he himself was not in question, but his horse was. The gentleman appeared to be enumerating all his qualities to his auditors; and, as I have said, the auditors seeming to have great deference for the narrator, they every moment burst into fits of laughter. Now, as a half-smile was sufficient to awaken the irascibility of the young man, the effect produced upon him by this vociferous mirth may be easily imagined.\n",
        "Nevertheless, D’Artagnan was desirous of examining the appearance of this impertinent personage who ridiculed him. He fixed his haughty eye upon the stranger, and perceived a man of from forty to forty-five years of age, with black and piercing eyes, pale complexion, a strongly marked nose, and a black and well-shaped mustache. He was dressed in a doublet and hose of a violet color, with aiguillettes of the same color, without any other ornaments than the customary slashes, through which the shirt appeared. This doublet and hose, though new, were creased, like traveling clothes for a long time packed in a portmanteau. D’Artagnan made all these remarks with the rapidity of a most minute observer, and doubtless from an instinctive feeling that this stranger was destined to have a great influence over his future life.\n",
        "Now, as at the moment in which D’Artagnan fixed his eyes upon the gentleman in the violet doublet, the gentleman made one of his most knowing and profound remarks respecting the Béarnese pony, his two auditors laughed even louder than before, and he himself, though contrary to his custom, allowed a pale smile (if I may be allowed to use such an expression) to stray over his countenance. This time there could be no doubt; D’Artagnan was really insulted. Full, then, of this conviction, he pulled his cap down over his eyes, and endeavoring to copy some of the court airs he had picked up in Gascony among young traveling nobles, he advanced with one hand on the hilt of his sword and the other resting on his hip. Unfortunately, as he advanced, his anger increased at every step; and instead of the proper and lofty speech he had prepared as a prelude to his challenge, he found nothing at the tip of his tongue but a gross personality, which he accompanied with a furious gesture.\n",
        "“I say, sir, you sir, who are hiding yourself behind that shutter—yes, you, sir, tell me what you are laughing at, and we will laugh together!”\n",
        "The gentleman raised his eyes slowly from the nag to his cavalier, as if he required some time to ascertain whether it could be to him that such strange reproaches were addressed; then, when he could not possibly entertain any doubt of the matter, his eyebrows slightly bent, and with an accent of irony and insolence impossible to be described, he replied to D’Artagnan, “I was not speaking to you, sir.”\n",
        "“But I am speaking to you!” replied the young man, additionally exasperated with this mixture of insolence and good manners, of politeness and scorn.\n",
        "The stranger looked at him again with a slight smile, and retiring from the window, came out of the hostelry with a slow step, and placed himself before the horse, within two paces of D’Artagnan. His quiet manner and the ironical expression of his countenance redoubled the mirth of the persons with whom he had been talking, and who still remained at the window.\n",
        "D’Artagnan, seeing him approach, drew his sword a foot out of the scabbard.\n",
        "“This horse is decidedly, or rather has been in his youth, a buttercup,” resumed the stranger, continuing the remarks he had begun, and addressing himself to his auditors at the window, without paying the least attention to the exasperation of D’Artagnan, who, however, placed himself between him and them. “It is a color very well known in botany, but till the present time very rare among horses.”\n",
        "“There are people who laugh at the horse that would not dare to laugh at the master,” cried the young emulator of the furious Tréville.\n",
        "“I do not often laugh, sir,” replied the stranger, “as you may perceive by the expression of my countenance; but nevertheless I retain the privilege of laughing when I please.”\n",
        "“And I,” cried D’Artagnan, “will allow no man to laugh when it displeases me!”\n",
        "“Indeed, sir,” continued the stranger, more calm than ever; “well, that is perfectly right!” and turning on his heel, was about to re-enter the hostelry by the front gate, beneath which D’Artagnan on arriving had observed a saddled horse.\n",
        "But, D’Artagnan was not of a character to allow a man to escape him thus who had the insolence to ridicule him. He drew his sword entirely from the scabbard, and followed him, crying, “Turn, turn, Master Joker, lest I strike you behind!”\n",
        "“Strike me!” said the other, turning on his heels, and surveying the young man with as much astonishment as contempt. “Why, my good fellow, you must be mad!” Then, in a suppressed tone, as if speaking to himself, “This is annoying,” continued he. “What a godsend this would be for his Majesty, who is seeking everywhere for brave fellows to recruit for his Musketeers!”\n",
        "He had scarcely finished, when D’Artagnan made such a furious lunge at him that if he had not sprung nimbly backward, it is probable he would have jested for the last time. The stranger, then perceiving that the matter went beyond raillery, drew his sword, saluted his adversary, and seriously placed himself on guard. But at the same moment, his two auditors, accompanied by the host, fell upon D’Artagnan with sticks, shovels and tongs. This caused so rapid and complete a diversion from the attack that D’Artagnan’s adversary, while the latter turned round to face this shower of blows, sheathed his sword with the same precision, and instead of an actor, which he had nearly been, became a spectator of the fight—a part in which he acquitted himself with his usual impassiveness, muttering, nevertheless, “A plague upon these Gascons! Replace him on his orange horse, and let him begone!”\n",
        "“Not before I have killed you, poltroon!” cried D’Artagnan, making the best face possible, and never retreating one step before his three assailants, who continued to shower blows upon him.\n",
        "“Another gasconade!” murmured the gentleman. “By my honor, these Gascons are incorrigible! Keep up the dance, then, since he will have it so. When he is tired, he will perhaps tell us that he has had enough of it.”\n",
        "But the stranger knew not the headstrong personage he had to do with; D’Artagnan was not the man ever to cry for quarter. The fight was therefore prolonged for some seconds; but at length D’Artagnan dropped his sword, which was broken in two pieces by the blow of a stick. Another blow full upon his forehead at the same moment brought him to the ground, covered with blood and almost fainting.\n",
        "It was at this moment that people came flocking to the scene of action from all sides. The host, fearful of consequences, with the help of his servants carried the wounded man into the kitchen, where some trifling attentions were bestowed upon him.\"\"\"\n"
      ]
    },
    {
      "cell_type": "code",
      "execution_count": 37,
      "metadata": {
        "id": "-7H7Q-24lkwJ"
      },
      "outputs": [],
      "source": [
        "text = text.encode('ascii', 'ignore')\n",
        "# text"
      ]
    },
    {
      "cell_type": "code",
      "execution_count": 38,
      "metadata": {
        "id": "kL-TsL4EmM-P"
      },
      "outputs": [],
      "source": [
        "# list(map(lambda x:ord(x), text))"
      ]
    },
    {
      "cell_type": "markdown",
      "source": [
        "## データセットの定義"
      ],
      "metadata": {
        "id": "DFdrRRJ0Ka0h"
      }
    },
    {
      "cell_type": "code",
      "execution_count": 39,
      "metadata": {
        "id": "Siz3g53cAbdM"
      },
      "outputs": [],
      "source": [
        "class MyDataset(torch.utils.data.Dataset) :\n",
        "  def __init__(self, text, num):\n",
        "    # self.data = torch.tensor(list(map(lambda x:ord(x), text)))\n",
        "    self.data = torch.tensor(list(text))\n",
        "    self.num = num\n",
        "\n",
        "  def __len__(self):\n",
        "    return 100\n",
        "\n",
        "  def __getitem__(self, idx):\n",
        "    start = random.randint(0, len(self.data)-self.num-1)\n",
        "    sel = self.data[start:start+self.num+1]\n",
        "    onehot = F.one_hot(sel, num_classes = 256)\n",
        "    x = onehot[:-1].to(torch.float)\n",
        "    y = onehot[1:].to(torch.float)\n",
        "    return x, y"
      ]
    },
    {
      "cell_type": "code",
      "execution_count": 40,
      "metadata": {
        "colab": {
          "base_uri": "https://localhost:8080/"
        },
        "id": "FoDy09MaAar4",
        "outputId": "61c5580f-0533-4d8c-9e59-494b9ba18861"
      },
      "outputs": [
        {
          "output_type": "execute_result",
          "data": {
            "text/plain": [
              "(torch.Size([100, 256]), torch.Size([100, 256]))"
            ]
          },
          "metadata": {},
          "execution_count": 40
        }
      ],
      "source": [
        "dataset = MyDataset(text, 100)\n",
        "x, y = dataset[0]\n",
        "x.shape, y.shape"
      ]
    },
    {
      "cell_type": "code",
      "execution_count": 41,
      "metadata": {
        "id": "fCHVZiO64g8E"
      },
      "outputs": [],
      "source": [
        "train_loader = torch.utils.data.DataLoader(dataset, batch_size=batch_size, shuffle=True)"
      ]
    },
    {
      "cell_type": "markdown",
      "source": [
        "## モデルの定義"
      ],
      "metadata": {
        "id": "5_aQpLwCKdeZ"
      }
    },
    {
      "cell_type": "code",
      "execution_count": 42,
      "metadata": {
        "id": "BPhy6xaOEnlQ"
      },
      "outputs": [],
      "source": [
        "class MyModel(nn.Module):\n",
        "    def __init__(self, n_input, n_hidden, n_output, rnn = \"RNN\", n_layers=2):\n",
        "        super(MyModel, self).__init__()\n",
        "        self.n_hidden = n_hidden\n",
        "        self.n_layers = n_layers\n",
        "        if rnn == \"RNN\" :\n",
        "          self.rnn = nn.RNN(n_input, n_hidden, num_layers=n_layers, batch_first=True)\n",
        "        else :\n",
        "          self.rnn = nn.GRU(n_input, n_hidden, num_layers=n_layers, batch_first=True)\n",
        "\n",
        "        self.out = nn.Linear(n_hidden, n_output)\n",
        "\n",
        "    def forward(self, x, h=None):\n",
        "        output, hp = self.rnn(x.unsqueeze(1), h)\n",
        "        output = self.out(output.squeeze(1))\n",
        "        # print(x.shape, h.shape)\n",
        "        # x = x.unsqueeze(1)\n",
        "        # print(x.shape, h.shape)\n",
        "\n",
        "        # output, hp = self.rnn(x, h)\n",
        "        # output = self.out(output)\n",
        "        return output, hp\n",
        "\n",
        "    def initHidden(self, batch_size):\n",
        "        return torch.zeros(1, self.n_hidden*self.n_layers*batch_size).reshape(self.n_layers, batch_size, self.n_hidden)\n"
      ]
    },
    {
      "cell_type": "markdown",
      "source": [
        "## モデルの生成"
      ],
      "metadata": {
        "id": "4cCtGpSkKf0T"
      }
    },
    {
      "cell_type": "code",
      "execution_count": 43,
      "metadata": {
        "id": "UqWtJx1Ctckf"
      },
      "outputs": [],
      "source": [
        "device = torch.device('cuda:0') if torch.cuda.is_available() else torch.device('cpu')"
      ]
    },
    {
      "cell_type": "code",
      "execution_count": 44,
      "metadata": {
        "id": "JJzZtZwD2td5"
      },
      "outputs": [],
      "source": [
        "model = MyModel(256, n_hidden, 256, rnn=rnn_model, n_layers=n_layers).to(device)\n",
        "criterion = nn.CrossEntropyLoss()\n",
        "optimizer = torch.optim.SGD(model.parameters(), lr=0.005)"
      ]
    },
    {
      "cell_type": "markdown",
      "source": [
        "## 学習"
      ],
      "metadata": {
        "id": "EGVxZMb3KiQw"
      }
    },
    {
      "cell_type": "code",
      "execution_count": 45,
      "metadata": {
        "colab": {
          "base_uri": "https://localhost:8080/",
          "height": 49,
          "referenced_widgets": [
            "aad64cafe02f4fac9f16761c3428939e",
            "6e7a1f8f8b4c40a5bf8e659441ac4533",
            "e5cd17b693714befa4230c356be2284b",
            "f2e9b90452fb4d33abdec32276507b21",
            "a9cf219c56e84d5e873a3fb842c318fa",
            "87fa309ddea84223b823508f87fda270",
            "567cbe016c80491598e92ab26dfee1d4",
            "14676339e9c04455b374dabe7b72376a",
            "08e37d0f94a14ecca73a457370ad7d63",
            "afb08b2be9d4456c9d8b60dad20f23d6",
            "254fd2c97d27483ea9b9eb5c9df08634"
          ]
        },
        "id": "CR4iWCnT2uWy",
        "outputId": "1a8144a9-6a8c-4e92-f52d-d4f5ed5310d3"
      },
      "outputs": [
        {
          "output_type": "display_data",
          "data": {
            "text/plain": [
              "  0%|          | 0/100 [00:00<?, ?it/s]"
            ],
            "application/vnd.jupyter.widget-view+json": {
              "version_major": 2,
              "version_minor": 0,
              "model_id": "aad64cafe02f4fac9f16761c3428939e"
            }
          },
          "metadata": {}
        }
      ],
      "source": [
        "n_epoch = 100\n",
        "lloss = []\n",
        "model.train()\n",
        "for epoch in tqdm(range(n_epoch)):\n",
        "    running_loss = 0.0\n",
        "    cnt = 0\n",
        "    for i, data in enumerate(train_loader):\n",
        "        xs, ys = data\n",
        "        xs = xs.to(device)\n",
        "        ys = ys.to(device)\n",
        "        h = model.initHidden(xs.shape[0]).to(device)\n",
        "        xs = xs.permute(1, 0, 2)\n",
        "        ys = ys.permute(1, 0, 2)\n",
        "        # print(xs.shape, h.shape)\n",
        "        for x, y in zip(xs, ys):\n",
        "          x = x.to(device)\n",
        "          y = y.to(device)\n",
        "          # print(x.shape, y.shape)\n",
        "          optimizer.zero_grad()\n",
        "          h = h.detach() # 隠れステートにバックプロパゲーションされないように、detach\n",
        "          output, h = model(x, h)\n",
        "          # print(output.shape)\n",
        "          loss = criterion(output, y)\n",
        "          loss.backward()\n",
        "          optimizer.step()\n",
        "          running_loss += float(loss.detach().cpu())\n",
        "          cnt += 1\n",
        "\n",
        "    lloss.append(running_loss/cnt)"
      ]
    },
    {
      "cell_type": "code",
      "execution_count": 46,
      "metadata": {
        "colab": {
          "base_uri": "https://localhost:8080/",
          "height": 448
        },
        "id": "g6X0-vM94bAP",
        "outputId": "b7570ccb-0a5f-47e7-e415-da8f97889467"
      },
      "outputs": [
        {
          "output_type": "execute_result",
          "data": {
            "text/plain": [
              "[<matplotlib.lines.Line2D at 0x79e3448ca6e0>]"
            ]
          },
          "metadata": {},
          "execution_count": 46
        },
        {
          "output_type": "display_data",
          "data": {
            "text/plain": [
              "<Figure size 640x480 with 1 Axes>"
            ],
            "image/png": "[encoded data removed]"
          },
          "metadata": {}
        }
      ],
      "source": [
        "plt.plot(lloss[:20], 'ro--')"
      ]
    },
    {
      "cell_type": "markdown",
      "source": [
        "## 文字列を生成してみる"
      ],
      "metadata": {
        "id": "hIiAxm7pKk-8"
      }
    },
    {
      "cell_type": "code",
      "source": [
        "# # 制御文字をカット\n",
        "# def cutcode(y) :\n",
        "#   m = y.min()\n",
        "#   for i in range(256):\n",
        "#     if i <= 0x1f or i >= 0x7f :\n",
        "#       y[0, i] = m\n",
        "#   return y"
      ],
      "metadata": {
        "id": "GTkLGm9vHm8r"
      },
      "execution_count": 47,
      "outputs": []
    },
    {
      "cell_type": "code",
      "execution_count": 48,
      "metadata": {
        "id": "nd3BGevc8Unw"
      },
      "outputs": [],
      "source": [
        "cur = 'T'\n",
        "model.eval()\n",
        "h = model.initHidden(1).to(device)\n",
        "ans = [cur]\n",
        "for i in range(500) :\n",
        "  x = torch.tensor(ord(cur))\n",
        "  x = F.one_hot(x, num_classes=256).to(torch.float).unsqueeze(0).to(device)\n",
        "  with torch.no_grad() :\n",
        "    y, _ = model(x, h)\n",
        "  # y = cutcode(y)\n",
        "  # c = chr(y.argmax())\n",
        "  # sel = torch.multinomial(y.softmax(axis=1), num_samples=1)\n",
        "  # if sel <= 0x1f or sel >= 0x7f : continue\n",
        "  # c = chr(sel.item())\n",
        "  c = chr(y.argsort(descending=True)[0, random.randint(0, 5)])\n",
        "  # c = chr(y.argsort(descending=True)[0, int(min(2, abs(random.gauss(0, 2))))])\n",
        "  ans.append(c)\n",
        "  cur = c"
      ]
    },
    {
      "cell_type": "code",
      "execution_count": 53,
      "metadata": {
        "colab": {
          "base_uri": "https://localhost:8080/",
          "height": 108
        },
        "id": "fyoW1HEH9ZD2",
        "outputId": "577c7133-a838-479d-c8d0-472adee55d3f"
      },
      "outputs": [
        {
          "output_type": "stream",
          "name": "stdout",
          "text": [
            "Thounst w s henthr tidir,,sss, h homy sderitinthon s towaratine s ofofit wan ta agofir,.r omidelaron ta arasted t hr,s ag hrom aselidraselirasdron a hate an owofe ome tow as owansdis,risdisdenerens omyrofr s w sthrousduned,,sthom s,rowed,s,rind sd,r,rofeles owhil whonerid,rasdin a ha homof terendr oristast whisdr of warirathre s,s,se antagofoute oforor h wir,,rederomestedrinss, on w astherowagas, sdel tond, wed,s oma standid,,ra ofasserense s,,s,.,romes hongidin teriss, wilarofilronesdessthagindu\n"
          ]
        },
        {
          "output_type": "execute_result",
          "data": {
            "text/plain": [
              "'Thounst w s henthr tidir,,sss, h homy sderitinthon s towaratine s ofofit wan ta agofir,.r omidelaron ta arasted t hr,s ag hrom aselidraselirasdron a hate an owofe ome tow as owansdis,risdisdenerens omyrofr s w sthrousduned,,sthom s,rowed,s,rind sd,r,rofeles owhil whonerid,rasdin a ha homof terendr oristast whisdr of warirathre s,s,se antagofoute oforor h wir,,rederomestedrinss, on w astherowagas, sdel tond, wed,s oma standid,,ra ofasserense s,,s,.,romes hongidin teriss, wilarofilronesdessthagindu'"
            ],
            "application/vnd.google.colaboratory.intrinsic+json": {
              "type": "string"
            }
          },
          "metadata": {},
          "execution_count": 53
        }
      ],
      "source": [
        "print(\"\".join(ans))\n",
        "\"\".join(ans)"
      ]
    },
    {
      "cell_type": "code",
      "execution_count": 50,
      "metadata": {
        "colab": {
          "base_uri": "https://localhost:8080/"
        },
        "id": "Dr6Nma5M_T6m",
        "outputId": "df8c1835-8b21-47a3-f22b-139b09ff9bb7"
      },
      "outputs": [
        {
          "output_type": "execute_result",
          "data": {
            "text/plain": [
              "MyModel(\n",
              "  (rnn): RNN(256, 16, num_layers=2, batch_first=True)\n",
              "  (out): Linear(in_features=16, out_features=256, bias=True)\n",
              ")"
            ]
          },
          "metadata": {},
          "execution_count": 50
        }
      ],
      "source": [
        "model"
      ]
    },
    {
      "cell_type": "code",
      "execution_count": 51,
      "metadata": {
        "id": "bQ8JGyp0sAEQ"
      },
      "outputs": [],
      "source": [
        "torch.save(model.state_dict(), \"model.pth\")"
      ]
    },
    {
      "cell_type": "code",
      "execution_count": 52,
      "metadata": {
        "id": "5dcjleyqsKpx",
        "colab": {
          "base_uri": "https://localhost:8080/"
        },
        "outputId": "42ac6567-b50a-4fb3-f38f-643670685717"
      },
      "outputs": [
        {
          "output_type": "stream",
          "name": "stdout",
          "text": [
            "total 44\n",
            "-rw-r--r-- 1 root root 40092 Apr 26 07:22 model.pth\n",
            "drwxr-xr-x 1 root root  4096 Apr 24 13:26 sample_data\n"
          ]
        }
      ],
      "source": [
        "!ls -l"
      ]
    },
    {
      "cell_type": "code",
      "source": [],
      "metadata": {
        "id": "C44Bzul6-hiD"
      },
      "execution_count": null,
      "outputs": []
    }
  ],
  "metadata": {
    "colab": {
      "provenance": [],
      "authorship_tag": "ABX9TyMyZ6DNn/AeiBWgkmDh/M2B",
      "include_colab_link": true
    },
    "kernelspec": {
      "display_name": "Python 3",
      "name": "python3"
    },
    "language_info": {
      "name": "python"
    },
    "widgets": {
      "application/vnd.jupyter.widget-state+json": {
        "aad64cafe02f4fac9f16761c3428939e": {
          "model_module": "@jupyter-widgets/controls",
          "model_name": "HBoxModel",
          "model_module_version": "1.5.0",
          "state": {
            "_dom_classes": [],
            "_model_module": "@jupyter-widgets/controls",
            "_model_module_version": "1.5.0",
            "_model_name": "HBoxModel",
            "_view_count": null,
            "_view_module": "@jupyter-widgets/controls",
            "_view_module_version": "1.5.0",
            "_view_name": "HBoxView",
            "box_style": "",
            "children": [
              "IPY_MODEL_6e7a1f8f8b4c40a5bf8e659441ac4533",
              "IPY_MODEL_e5cd17b693714befa4230c356be2284b",
              "IPY_MODEL_f2e9b90452fb4d33abdec32276507b21"
            ],
            "layout": "IPY_MODEL_a9cf219c56e84d5e873a3fb842c318fa"
          }
        },
        "6e7a1f8f8b4c40a5bf8e659441ac4533": {
          "model_module": "@jupyter-widgets/controls",
          "model_name": "HTMLModel",
          "model_module_version": "1.5.0",
          "state": {
            "_dom_classes": [],
            "_model_module": "@jupyter-widgets/controls",
            "_model_module_version": "1.5.0",
            "_model_name": "HTMLModel",
            "_view_count": null,
            "_view_module": "@jupyter-widgets/controls",
            "_view_module_version": "1.5.0",
            "_view_name": "HTMLView",
            "description": "",
            "description_tooltip": null,
            "layout": "IPY_MODEL_87fa309ddea84223b823508f87fda270",
            "placeholder": "​",
            "style": "IPY_MODEL_567cbe016c80491598e92ab26dfee1d4",
            "value": "100%"
          }
        },
        "e5cd17b693714befa4230c356be2284b": {
          "model_module": "@jupyter-widgets/controls",
          "model_name": "FloatProgressModel",
          "model_module_version": "1.5.0",
          "state": {
            "_dom_classes": [],
            "_model_module": "@jupyter-widgets/controls",
            "_model_module_version": "1.5.0",
            "_model_name": "FloatProgressModel",
            "_view_count": null,
            "_view_module": "@jupyter-widgets/controls",
            "_view_module_version": "1.5.0",
            "_view_name": "ProgressView",
            "bar_style": "success",
            "description": "",
            "description_tooltip": null,
            "layout": "IPY_MODEL_14676339e9c04455b374dabe7b72376a",
            "max": 100,
            "min": 0,
            "orientation": "horizontal",
            "style": "IPY_MODEL_08e37d0f94a14ecca73a457370ad7d63",
            "value": 100
          }
        },
        "f2e9b90452fb4d33abdec32276507b21": {
          "model_module": "@jupyter-widgets/controls",
          "model_name": "HTMLModel",
          "model_module_version": "1.5.0",
          "state": {
            "_dom_classes": [],
            "_model_module": "@jupyter-widgets/controls",
            "_model_module_version": "1.5.0",
            "_model_name": "HTMLModel",
            "_view_count": null,
            "_view_module": "@jupyter-widgets/controls",
            "_view_module_version": "1.5.0",
            "_view_name": "HTMLView",
            "description": "",
            "description_tooltip": null,
            "layout": "IPY_MODEL_afb08b2be9d4456c9d8b60dad20f23d6",
            "placeholder": "​",
            "style": "IPY_MODEL_254fd2c97d27483ea9b9eb5c9df08634",
            "value": " 100/100 [05:23&lt;00:00,  3.41s/it]"
          }
        },
        "a9cf219c56e84d5e873a3fb842c318fa": {
          "model_module": "@jupyter-widgets/base",
          "model_name": "LayoutModel",
          "model_module_version": "1.2.0",
          "state": {
            "_model_module": "@jupyter-widgets/base",
            "_model_module_version": "1.2.0",
            "_model_name": "LayoutModel",
            "_view_count": null,
            "_view_module": "@jupyter-widgets/base",
            "_view_module_version": "1.2.0",
            "_view_name": "LayoutView",
            "align_content": null,
            "align_items": null,
            "align_self": null,
            "border": null,
            "bottom": null,
            "display": null,
            "flex": null,
            "flex_flow": null,
            "grid_area": null,
            "grid_auto_columns": null,
            "grid_auto_flow": null,
            "grid_auto_rows": null,
            "grid_column": null,
            "grid_gap": null,
            "grid_row": null,
            "grid_template_areas": null,
            "grid_template_columns": null,
            "grid_template_rows": null,
            "height": null,
            "justify_content": null,
            "justify_items": null,
            "left": null,
            "margin": null,
            "max_height": null,
            "max_width": null,
            "min_height": null,
            "min_width": null,
            "object_fit": null,
            "object_position": null,
            "order": null,
            "overflow": null,
            "overflow_x": null,
            "overflow_y": null,
            "padding": null,
            "right": null,
            "top": null,
            "visibility": null,
            "width": null
          }
        },
        "87fa309ddea84223b823508f87fda270": {
          "model_module": "@jupyter-widgets/base",
          "model_name": "LayoutModel",
          "model_module_version": "1.2.0",
          "state": {
            "_model_module": "@jupyter-widgets/base",
            "_model_module_version": "1.2.0",
            "_model_name": "LayoutModel",
            "_view_count": null,
            "_view_module": "@jupyter-widgets/base",
            "_view_module_version": "1.2.0",
            "_view_name": "LayoutView",
            "align_content": null,
            "align_items": null,
            "align_self": null,
            "border": null,
            "bottom": null,
            "display": null,
            "flex": null,
            "flex_flow": null,
            "grid_area": null,
            "grid_auto_columns": null,
            "grid_auto_flow": null,
            "grid_auto_rows": null,
            "grid_column": null,
            "grid_gap": null,
            "grid_row": null,
            "grid_template_areas": null,
            "grid_template_columns": null,
            "grid_template_rows": null,
            "height": null,
            "justify_content": null,
            "justify_items": null,
            "left": null,
            "margin": null,
            "max_height": null,
            "max_width": null,
            "min_height": null,
            "min_width": null,
            "object_fit": null,
            "object_position": null,
            "order": null,
            "overflow": null,
            "overflow_x": null,
            "overflow_y": null,
            "padding": null,
            "right": null,
            "top": null,
            "visibility": null,
            "width": null
          }
        },
        "567cbe016c80491598e92ab26dfee1d4": {
          "model_module": "@jupyter-widgets/controls",
          "model_name": "DescriptionStyleModel",
          "model_module_version": "1.5.0",
          "state": {
            "_model_module": "@jupyter-widgets/controls",
            "_model_module_version": "1.5.0",
            "_model_name": "DescriptionStyleModel",
            "_view_count": null,
            "_view_module": "@jupyter-widgets/base",
            "_view_module_version": "1.2.0",
            "_view_name": "StyleView",
            "description_width": ""
          }
        },
        "14676339e9c04455b374dabe7b72376a": {
          "model_module": "@jupyter-widgets/base",
          "model_name": "LayoutModel",
          "model_module_version": "1.2.0",
          "state": {
            "_model_module": "@jupyter-widgets/base",
            "_model_module_version": "1.2.0",
            "_model_name": "LayoutModel",
            "_view_count": null,
            "_view_module": "@jupyter-widgets/base",
            "_view_module_version": "1.2.0",
            "_view_name": "LayoutView",
            "align_content": null,
            "align_items": null,
            "align_self": null,
            "border": null,
            "bottom": null,
            "display": null,
            "flex": null,
            "flex_flow": null,
            "grid_area": null,
            "grid_auto_columns": null,
            "grid_auto_flow": null,
            "grid_auto_rows": null,
            "grid_column": null,
            "grid_gap": null,
            "grid_row": null,
            "grid_template_areas": null,
            "grid_template_columns": null,
            "grid_template_rows": null,
            "height": null,
            "justify_content": null,
            "justify_items": null,
            "left": null,
            "margin": null,
            "max_height": null,
            "max_width": null,
            "min_height": null,
            "min_width": null,
            "object_fit": null,
            "object_position": null,
            "order": null,
            "overflow": null,
            "overflow_x": null,
            "overflow_y": null,
            "padding": null,
            "right": null,
            "top": null,
            "visibility": null,
            "width": null
          }
        },
        "08e37d0f94a14ecca73a457370ad7d63": {
          "model_module": "@jupyter-widgets/controls",
          "model_name": "ProgressStyleModel",
          "model_module_version": "1.5.0",
          "state": {
            "_model_module": "@jupyter-widgets/controls",
            "_model_module_version": "1.5.0",
            "_model_name": "ProgressStyleModel",
            "_view_count": null,
            "_view_module": "@jupyter-widgets/base",
            "_view_module_version": "1.2.0",
            "_view_name": "StyleView",
            "bar_color": null,
            "description_width": ""
          }
        },
        "afb08b2be9d4456c9d8b60dad20f23d6": {
          "model_module": "@jupyter-widgets/base",
          "model_name": "LayoutModel",
          "model_module_version": "1.2.0",
          "state": {
            "_model_module": "@jupyter-widgets/base",
            "_model_module_version": "1.2.0",
            "_model_name": "LayoutModel",
            "_view_count": null,
            "_view_module": "@jupyter-widgets/base",
            "_view_module_version": "1.2.0",
            "_view_name": "LayoutView",
            "align_content": null,
            "align_items": null,
            "align_self": null,
            "border": null,
            "bottom": null,
            "display": null,
            "flex": null,
            "flex_flow": null,
            "grid_area": null,
            "grid_auto_columns": null,
            "grid_auto_flow": null,
            "grid_auto_rows": null,
            "grid_column": null,
            "grid_gap": null,
            "grid_row": null,
            "grid_template_areas": null,
            "grid_template_columns": null,
            "grid_template_rows": null,
            "height": null,
            "justify_content": null,
            "justify_items": null,
            "left": null,
            "margin": null,
            "max_height": null,
            "max_width": null,
            "min_height": null,
            "min_width": null,
            "object_fit": null,
            "object_position": null,
            "order": null,
            "overflow": null,
            "overflow_x": null,
            "overflow_y": null,
            "padding": null,
            "right": null,
            "top": null,
            "visibility": null,
            "width": null
          }
        },
        "254fd2c97d27483ea9b9eb5c9df08634": {
          "model_module": "@jupyter-widgets/controls",
          "model_name": "DescriptionStyleModel",
          "model_module_version": "1.5.0",
          "state": {
            "_model_module": "@jupyter-widgets/controls",
            "_model_module_version": "1.5.0",
            "_model_name": "DescriptionStyleModel",
            "_view_count": null,
            "_view_module": "@jupyter-widgets/base",
            "_view_module_version": "1.2.0",
            "_view_name": "StyleView",
            "description_width": ""
          }
        }
      }
    }
  },
  "nbformat": 4,
  "nbformat_minor": 0
}